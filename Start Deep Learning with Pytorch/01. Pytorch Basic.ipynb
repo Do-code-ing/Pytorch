{
 "cells": [
  {
   "cell_type": "markdown",
   "id": "c845efcf-7191-487b-a964-06196b6d8415",
   "metadata": {
    "jp-MarkdownHeadingCollapsed": true,
    "tags": []
   },
   "source": [
    "# 1. PyTorch 패키지의 기본 구성"
   ]
  },
  {
   "cell_type": "markdown",
   "id": "2c0b91af-a072-4aa0-8835-37b5e62e75b4",
   "metadata": {
    "tags": []
   },
   "source": [
    "## torch\n",
    "> 메인 네임스페이스다.  \n",
    "텐서 등의 다양한 수학 함수가 포함되어 있으며 Numpy와 유사한 구조를 가진다."
   ]
  },
  {
   "cell_type": "markdown",
   "id": "13d1ff00-2092-4914-95e9-845d67819cad",
   "metadata": {},
   "source": [
    "## torch.autograd\n",
    "> 자동 미분을 위한 함수들이 포함되어 있다.  \n",
    "자동 미분의 on/off를 제어하는 컨텍스트 매니저(enable_grad/no_grad)나  \n",
    "자체 미분 가능 함수를 정의할 때 사용하는 기반 클래스인 `Function` 등이 포함되어 있다."
   ]
  },
  {
   "cell_type": "markdown",
   "id": "4a359e1c-caf9-4667-86ed-90ac56fb14d8",
   "metadata": {},
   "source": [
    "## torch.nn\n",
    "> 신경망을 구축하기 위한 다양한 데이터 구조나 레이어 등이 정의되어 있다.  \n",
    "예를 들어 RNN, LSTM과 같은 레이어, ReLU와 같은 활성화 함수, MSELoss와 같은 손실 함수들이 있다."
   ]
  },
  {
   "cell_type": "markdown",
   "id": "0cce23dc-6cfb-4f8c-a694-6a6a9ae25f24",
   "metadata": {},
   "source": [
    "## torch.optim\n",
    "> 확률적 경사 하강법(SGD; Storchastic Gradient Descent)을 중심으로 한 파라미터 최적화 알고리즘이 구현되어 있다."
   ]
  },
  {
   "cell_type": "markdown",
   "id": "fdaa705a-b270-4b2c-8a74-13f2b315c72c",
   "metadata": {},
   "source": [
    "## torch.utils.data\n",
    "> SGD의 반복 연산을 실행할 때 사용하는 mini-batch용 유틸리티 함수가 포함되어 있다."
   ]
  },
  {
   "cell_type": "markdown",
   "id": "cb360a92-d428-4004-b3bf-6aba7deb10dc",
   "metadata": {},
   "source": [
    "## torch.onnx\n",
    "> ONNX(Open Neural Network Exchange)의 포맷으로 모델을 export할 때 사용한다.   \n",
    "ONNX는 서로 다른 딥러닝 프레임워크 간에 모델을 공유할 때 사용하는 포맷이다."
   ]
  },
  {
   "cell_type": "markdown",
   "id": "49a2df26-9fb2-4cae-9da4-0638f91782ab",
   "metadata": {
    "jp-MarkdownHeadingCollapsed": true,
    "tags": []
   },
   "source": [
    "# 2. Tensor Manipulation 1"
   ]
  },
  {
   "cell_type": "markdown",
   "id": "5fa40050-0c04-4d97-8a63-8c2d957f2220",
   "metadata": {
    "jp-MarkdownHeadingCollapsed": true,
    "tags": []
   },
   "source": [
    "## Numpy와 동일하게 동작"
   ]
  },
  {
   "cell_type": "code",
   "execution_count": 1,
   "id": "a27c2573-7c9c-4114-9d49-42405b28bdc0",
   "metadata": {
    "tags": []
   },
   "outputs": [],
   "source": [
    "import numpy as np"
   ]
  },
  {
   "cell_type": "code",
   "execution_count": 2,
   "id": "abcda418-7957-42fb-9783-7501a3bc6114",
   "metadata": {
    "tags": []
   },
   "outputs": [
    {
     "name": "stdout",
     "output_type": "stream",
     "text": [
      "[0. 1. 2. 3. 4. 5. 6.]\n"
     ]
    }
   ],
   "source": [
    "t = np.array([0., 1., 2., 3., 4., 5., 6.])\n",
    "print(t)"
   ]
  },
  {
   "cell_type": "code",
   "execution_count": 3,
   "id": "a58e8561-fd63-46fd-af6c-ce2fd3532303",
   "metadata": {
    "tags": []
   },
   "outputs": [
    {
     "name": "stdout",
     "output_type": "stream",
     "text": [
      "Rank of t: 1\n",
      "Shape of t: (7,)\n"
     ]
    }
   ],
   "source": [
    "print(f'Rank of t: {t.ndim}')\n",
    "print(f'Shape of t: {t.shape}')"
   ]
  },
  {
   "cell_type": "code",
   "execution_count": 4,
   "id": "552aefee-cdd0-4d05-8a55-59e8ed7e0ebf",
   "metadata": {
    "tags": []
   },
   "outputs": [
    {
     "name": "stdout",
     "output_type": "stream",
     "text": [
      "t[0] t[1], t[-1] = (0.0, 1.0, 6.0)\n"
     ]
    }
   ],
   "source": [
    "print(f't[0] t[1], t[-1] = {t[0], t[1], t[-1]}')"
   ]
  },
  {
   "cell_type": "code",
   "execution_count": 5,
   "id": "47b72ada-4bbe-48c4-b941-e44c43e61580",
   "metadata": {
    "tags": []
   },
   "outputs": [
    {
     "name": "stdout",
     "output_type": "stream",
     "text": [
      "[[ 1.  2.  3.]\n",
      " [ 4.  5.  6.]\n",
      " [ 7.  8.  9.]\n",
      " [10. 11. 12.]]\n"
     ]
    }
   ],
   "source": [
    "t = np.array([[1., 2., 3.], [4., 5., 6.], [7., 8., 9.], [10., 11., 12.]])\n",
    "print(t)"
   ]
  },
  {
   "cell_type": "code",
   "execution_count": 6,
   "id": "0832f52d-6d62-4512-9410-aa006a1beb2a",
   "metadata": {
    "tags": []
   },
   "outputs": [
    {
     "name": "stdout",
     "output_type": "stream",
     "text": [
      "Rank  of t:  2\n",
      "Shape of t:  (4, 3)\n"
     ]
    }
   ],
   "source": [
    "print('Rank  of t: ', t.ndim)\n",
    "print('Shape of t: ', t.shape)"
   ]
  },
  {
   "cell_type": "code",
   "execution_count": 7,
   "id": "6793f0b1-f710-4efd-be82-7904f4affb06",
   "metadata": {
    "tags": []
   },
   "outputs": [],
   "source": [
    "import torch"
   ]
  },
  {
   "cell_type": "code",
   "execution_count": 14,
   "id": "5a112bb6-da6b-4b38-b2a4-35edd004be0b",
   "metadata": {
    "tags": []
   },
   "outputs": [
    {
     "name": "stdout",
     "output_type": "stream",
     "text": [
      "tensor([0., 1., 2., 3., 4., 5., 6.])\n"
     ]
    }
   ],
   "source": [
    "t = torch.FloatTensor([0., 1., 2., 3., 4., 5., 6.]) # torch.FloatTensor = torch.tensor\n",
    "print(t)"
   ]
  },
  {
   "cell_type": "code",
   "execution_count": 9,
   "id": "3361acb6-cb6a-415d-90a3-5f2489791fd8",
   "metadata": {
    "tags": []
   },
   "outputs": [
    {
     "name": "stdout",
     "output_type": "stream",
     "text": [
      "1\n",
      "torch.Size([7])\n",
      "torch.Size([7])\n"
     ]
    }
   ],
   "source": [
    "print(t.dim())\n",
    "print(t.shape)\n",
    "print(t.size())"
   ]
  },
  {
   "cell_type": "code",
   "execution_count": 10,
   "id": "602f75cb-4972-4a23-b70a-64c29ece58bb",
   "metadata": {
    "tags": []
   },
   "outputs": [
    {
     "name": "stdout",
     "output_type": "stream",
     "text": [
      "tensor([[ 1.,  2.,  3.],\n",
      "        [ 4.,  5.,  6.],\n",
      "        [ 7.,  8.,  9.],\n",
      "        [10., 11., 12.]])\n"
     ]
    }
   ],
   "source": [
    "t = torch.tensor([[1., 2., 3.],\n",
    "                  [4., 5., 6.],\n",
    "                  [7., 8., 9.],\n",
    "                  [10., 11., 12.]\n",
    "                ])\n",
    "print(t)"
   ]
  },
  {
   "cell_type": "markdown",
   "id": "e8d76c3c-641c-4a42-a838-5f36cf4c7886",
   "metadata": {
    "jp-MarkdownHeadingCollapsed": true,
    "tags": []
   },
   "source": [
    "## Broadcasting 기능"
   ]
  },
  {
   "cell_type": "code",
   "execution_count": 15,
   "id": "b6e81702-d0db-4528-8783-25ddd6ca14cd",
   "metadata": {
    "tags": []
   },
   "outputs": [
    {
     "name": "stdout",
     "output_type": "stream",
     "text": [
      "tensor([[5., 5.]])\n"
     ]
    }
   ],
   "source": [
    "m1 = torch.FloatTensor([[3, 3]])\n",
    "m2 = torch.FloatTensor([[2, 2]])\n",
    "print(m1 + m2)"
   ]
  },
  {
   "cell_type": "code",
   "execution_count": 16,
   "id": "8bc7f12b-1bf9-44ca-9756-72f47883efc0",
   "metadata": {
    "tags": []
   },
   "outputs": [
    {
     "name": "stdout",
     "output_type": "stream",
     "text": [
      "tensor([[5., 6.]])\n"
     ]
    }
   ],
   "source": [
    "m1 = torch.FloatTensor([[3, 3]])\n",
    "m2 = torch.FloatTensor([[2, 3]])\n",
    "print(m1 + m2)"
   ]
  },
  {
   "cell_type": "code",
   "execution_count": 17,
   "id": "2d957779-d823-4c1d-a0bf-40c8bf1083d8",
   "metadata": {
    "tags": []
   },
   "outputs": [
    {
     "name": "stdout",
     "output_type": "stream",
     "text": [
      "tensor([[4., 5.]])\n"
     ]
    }
   ],
   "source": [
    "# Vector + scalar\n",
    "m1 = torch.FloatTensor([[1, 2]])\n",
    "m2 = torch.FloatTensor([3]) # [3] -> [3, 3]\n",
    "print(m1 + m2)"
   ]
  },
  {
   "cell_type": "code",
   "execution_count": 19,
   "id": "4b9f2eac-04d6-4cac-8bbb-92142c0194f2",
   "metadata": {
    "tags": []
   },
   "outputs": [
    {
     "name": "stdout",
     "output_type": "stream",
     "text": [
      "tensor([[4., 5.],\n",
      "        [5., 6.]])\n"
     ]
    }
   ],
   "source": [
    "# 2 x 1 Vector + 1 x 2 Vector\n",
    "m1 = torch.FloatTensor([[1, 2]])\n",
    "m2 = torch.FloatTensor([[3], [4]])\n",
    "print(m1 + m2)"
   ]
  },
  {
   "cell_type": "code",
   "execution_count": 24,
   "id": "ebd9f639-159d-44e3-a6ca-ccd9ad94ba51",
   "metadata": {
    "tags": []
   },
   "outputs": [
    {
     "data": {
      "text/plain": [
       "'\\n[1, 2]\\n==> [[1, 2],\\n     [1, 2]]\\n[3]\\n[4]\\n==> [[3, 3],\\n     [4, 4]]\\n\\n'"
      ]
     },
     "execution_count": 24,
     "metadata": {},
     "output_type": "execute_result"
    }
   ],
   "source": [
    "'''\n",
    "[1, 2]\n",
    "==> [[1, 2],\n",
    "     [1, 2]]\n",
    "[3]\n",
    "[4]\n",
    "==> [[3, 3],\n",
    "     [4, 4]]\n",
    "\n",
    "'''"
   ]
  },
  {
   "cell_type": "markdown",
   "id": "d1d13a2c-ab0a-4825-80fe-2aaee7944461",
   "metadata": {
    "jp-MarkdownHeadingCollapsed": true,
    "tags": []
   },
   "source": [
    "## 행렬 곱셈 / matmul()"
   ]
  },
  {
   "cell_type": "code",
   "execution_count": 22,
   "id": "06f6268c-79b6-43dd-9598-59565e4e706b",
   "metadata": {
    "tags": []
   },
   "outputs": [
    {
     "name": "stdout",
     "output_type": "stream",
     "text": [
      "Shape of Matrix 1:  torch.Size([2, 2])\n",
      "Shape of Matrix 2:  torch.Size([2, 1])\n",
      "tensor([[ 5.],\n",
      "        [11.]])\n"
     ]
    }
   ],
   "source": [
    "m1 = torch.FloatTensor([[1, 2], [3, 4]])\n",
    "m2 = torch.FloatTensor([[1], [2]])\n",
    "print('Shape of Matrix 1: ', m1.shape) # 2 x 2\n",
    "print('Shape of Matrix 2: ', m2.shape) # 2 x 1\n",
    "print(m1.matmul(m2)) # 2 x 1"
   ]
  },
  {
   "cell_type": "markdown",
   "id": "13063c91-553f-4e18-8490-be51dc6c1721",
   "metadata": {
    "jp-MarkdownHeadingCollapsed": true,
    "tags": []
   },
   "source": [
    "## Element-wise product (Hamadard product) / mul(), *"
   ]
  },
  {
   "cell_type": "code",
   "execution_count": 23,
   "id": "744cb30f-53b2-49cc-8eaa-bc5f49dc4e36",
   "metadata": {
    "tags": []
   },
   "outputs": [
    {
     "name": "stdout",
     "output_type": "stream",
     "text": [
      "Shape of Matrix 1:  torch.Size([2, 2])\n",
      "Shape of Matrix 2:  torch.Size([2, 1])\n",
      "tensor([[1., 2.],\n",
      "        [6., 8.]])\n",
      "tensor([[1., 2.],\n",
      "        [6., 8.]])\n"
     ]
    }
   ],
   "source": [
    "m1 = torch.FloatTensor([[1, 2], [3, 4]])\n",
    "m2 = torch.FloatTensor([[1], [2]])\n",
    "print('Shape of Matrix 1: ', m1.shape) # 2 x 2\n",
    "print('Shape of Matrix 2: ', m2.shape) # 2 x 1\n",
    "print(m1 * m2) # 2 x 2\n",
    "print(m1.mul(m2))"
   ]
  },
  {
   "cell_type": "code",
   "execution_count": 25,
   "id": "7ded127c-2a9a-4bc1-8189-349ac8ad9665",
   "metadata": {
    "tags": []
   },
   "outputs": [
    {
     "data": {
      "text/plain": [
       "'\\n[1]\\n[2]\\n==> [[1, 1],\\n     [2, 2]]\\n'"
      ]
     },
     "execution_count": 25,
     "metadata": {},
     "output_type": "execute_result"
    }
   ],
   "source": [
    "'''\n",
    "[1]\n",
    "[2]\n",
    "==> [[1, 1],\n",
    "     [2, 2]]\n",
    "'''"
   ]
  },
  {
   "cell_type": "markdown",
   "id": "24942d2c-268d-4186-93ad-d6506cc9e8bb",
   "metadata": {
    "jp-MarkdownHeadingCollapsed": true,
    "tags": []
   },
   "source": [
    "## 평균 (Mean)"
   ]
  },
  {
   "cell_type": "code",
   "execution_count": 26,
   "id": "0e5b759b-e2ad-4eb0-845a-e05ff918d2a7",
   "metadata": {
    "tags": []
   },
   "outputs": [
    {
     "name": "stdout",
     "output_type": "stream",
     "text": [
      "tensor(1.5000)\n"
     ]
    }
   ],
   "source": [
    "t = torch.FloatTensor([1, 2])\n",
    "print(t.mean())"
   ]
  },
  {
   "cell_type": "code",
   "execution_count": 27,
   "id": "341ea7e0-79f8-49f3-8177-b94a069c2431",
   "metadata": {
    "tags": []
   },
   "outputs": [
    {
     "name": "stdout",
     "output_type": "stream",
     "text": [
      "tensor([[1., 2.],\n",
      "        [3., 4.]])\n",
      "tensor(2.5000)\n"
     ]
    }
   ],
   "source": [
    "t = torch.FloatTensor([[1, 2], [3, 4]])\n",
    "print(t)\n",
    "print(t.mean())"
   ]
  },
  {
   "cell_type": "code",
   "execution_count": 28,
   "id": "a99c4aa0-3ccb-4c39-b839-74da94f7a445",
   "metadata": {
    "tags": []
   },
   "outputs": [
    {
     "name": "stdout",
     "output_type": "stream",
     "text": [
      "tensor([2., 3.])\n"
     ]
    }
   ],
   "source": [
    "print(t.mean(dim=0))"
   ]
  },
  {
   "cell_type": "code",
   "execution_count": null,
   "id": "66360c7f-ceb1-40c8-8610-26688586cd22",
   "metadata": {},
   "outputs": [],
   "source": [
    "'''\n",
    "dim 옵션에 mean을 계산할 때 사용할 차원 기준을 결정한다.\n",
    "0일 때 제일 큰 차원의 것들을 기준으로 계산한다.\n",
    "'''"
   ]
  },
  {
   "cell_type": "code",
   "execution_count": 41,
   "id": "a2c9aee7-ea97-47f7-929f-73a0550e29c5",
   "metadata": {
    "tags": []
   },
   "outputs": [
    {
     "name": "stdout",
     "output_type": "stream",
     "text": [
      "tensor([[[ 1.,  2.,  3.],\n",
      "         [ 4.,  5.,  6.],\n",
      "         [ 7.,  8.,  9.]],\n",
      "\n",
      "        [[10., 11., 12.],\n",
      "         [13., 14., 15.],\n",
      "         [16., 17., 18.]],\n",
      "\n",
      "        [[19., 20., 21.],\n",
      "         [22., 23., 24.],\n",
      "         [25., 26., 27.]]])\n",
      "tensor([[10., 11., 12.],\n",
      "        [13., 14., 15.],\n",
      "        [16., 17., 18.]])\n",
      "tensor([[ 4.,  5.,  6.],\n",
      "        [13., 14., 15.],\n",
      "        [22., 23., 24.]])\n",
      "tensor([[ 2.,  5.,  8.],\n",
      "        [11., 14., 17.],\n",
      "        [20., 23., 26.]])\n"
     ]
    }
   ],
   "source": [
    "tt = torch.arange(1, 28, 1, dtype=torch.float).reshape(3, 3, 3)\n",
    "print(tt)\n",
    "print(tt.mean(dim=0))\n",
    "print(tt.mean(dim=1))\n",
    "print(tt.mean(dim=2))"
   ]
  },
  {
   "cell_type": "code",
   "execution_count": null,
   "id": "a2ff6354-63ff-4a90-a470-0eac01893215",
   "metadata": {},
   "outputs": [],
   "source": [
    "'''\n",
    "3*3*3 행렬에서,\n",
    "dim=0인 경우,\n",
    "제일 큰 차원의 요소들끼리의 mean을 낸다.\n",
    "mean의 (0, 0, 0)의 값은 0번째 차원(shape의 0번째)을 기준으로, 즉 각 차원의 (0, 0)의 값들을 모아 계산하고,\n",
    "(0, 0, 0)값인 1과\n",
    "(0, 1, 0)의 값인 10과 \n",
    "(0, 2, 0)의 값인 19의 평균\n",
    "\n",
    "dim=1인 경우,\n",
    "mean의 (0, 0, 0)의 값은 1번째 차원(shape의 1번째)을 기준으로, 즉 각 차원의 (0, )의 값들을 모아 계산하고,\n",
    "(0, :, 0)값인 1, 4, 7의 평균\n",
    "\n",
    "dim=2인 경우,\n",
    "mean의 (0, 0, 0)의 값은 2번째 차원(shape의 2번째)을 기준으로,\n",
    "(0, 0, :)값인 1, 2, 3의 평균\n",
    "'''"
   ]
  },
  {
   "cell_type": "markdown",
   "id": "60e23927-8704-4936-9b1f-71bdfcac3545",
   "metadata": {
    "jp-MarkdownHeadingCollapsed": true,
    "tags": []
   },
   "source": [
    "## 덧셈 (Sum)"
   ]
  },
  {
   "cell_type": "code",
   "execution_count": 43,
   "id": "5e798c1c-3cdd-4d13-abcd-c32fa7878c84",
   "metadata": {
    "tags": []
   },
   "outputs": [
    {
     "name": "stdout",
     "output_type": "stream",
     "text": [
      "tensor([[[ 1.,  2.,  3.],\n",
      "         [ 4.,  5.,  6.],\n",
      "         [ 7.,  8.,  9.]],\n",
      "\n",
      "        [[10., 11., 12.],\n",
      "         [13., 14., 15.],\n",
      "         [16., 17., 18.]],\n",
      "\n",
      "        [[19., 20., 21.],\n",
      "         [22., 23., 24.],\n",
      "         [25., 26., 27.]]])\n",
      "tensor([[30., 33., 36.],\n",
      "        [39., 42., 45.],\n",
      "        [48., 51., 54.]])\n",
      "tensor([[12., 15., 18.],\n",
      "        [39., 42., 45.],\n",
      "        [66., 69., 72.]])\n",
      "tensor([[ 6., 15., 24.],\n",
      "        [33., 42., 51.],\n",
      "        [60., 69., 78.]])\n"
     ]
    }
   ],
   "source": [
    "tt = torch.arange(1, 28, 1, dtype=torch.float).reshape(3, 3, 3)\n",
    "print(tt)\n",
    "print(tt.sum(dim=0))\n",
    "print(tt.sum(dim=1))\n",
    "print(tt.sum(dim=2))"
   ]
  },
  {
   "cell_type": "markdown",
   "id": "4a71db75-ad9b-49d4-8049-a6e22188cefa",
   "metadata": {
    "jp-MarkdownHeadingCollapsed": true,
    "tags": []
   },
   "source": [
    "## Max와 ArgMax"
   ]
  },
  {
   "cell_type": "markdown",
   "id": "14366695-630a-4036-885b-24422f7b19c4",
   "metadata": {},
   "source": [
    "> Max는 텐서 내의 최대값을,  \n",
    "ArgMax는 텐서 내의 최대값의 위치를 반환한다."
   ]
  },
  {
   "cell_type": "code",
   "execution_count": 44,
   "id": "2ea4f02c-4e91-4511-a953-ae2f9d66c81b",
   "metadata": {
    "tags": []
   },
   "outputs": [
    {
     "name": "stdout",
     "output_type": "stream",
     "text": [
      "tensor([[[ 1.,  2.,  3.],\n",
      "         [ 4.,  5.,  6.],\n",
      "         [ 7.,  8.,  9.]],\n",
      "\n",
      "        [[10., 11., 12.],\n",
      "         [13., 14., 15.],\n",
      "         [16., 17., 18.]],\n",
      "\n",
      "        [[19., 20., 21.],\n",
      "         [22., 23., 24.],\n",
      "         [25., 26., 27.]]])\n",
      "tensor(27.)\n"
     ]
    }
   ],
   "source": [
    "tt = torch.arange(1, 28, 1, dtype=torch.float).reshape(3, 3, 3)\n",
    "print(tt)\n",
    "print(tt.max())"
   ]
  },
  {
   "cell_type": "code",
   "execution_count": 47,
   "id": "7e8cd85d-aeb1-4464-9259-1b365412163b",
   "metadata": {
    "tags": []
   },
   "outputs": [
    {
     "name": "stdout",
     "output_type": "stream",
     "text": [
      "torch.return_types.max(\n",
      "values=tensor([[19., 20., 21.],\n",
      "        [22., 23., 24.],\n",
      "        [25., 26., 27.]]),\n",
      "indices=tensor([[2, 2, 2],\n",
      "        [2, 2, 2],\n",
      "        [2, 2, 2]]))\n"
     ]
    }
   ],
   "source": [
    "print(tt.max(dim=0)) # 0번째 차원을 기준으로 max 값 구하기"
   ]
  },
  {
   "cell_type": "code",
   "execution_count": 46,
   "id": "2190076f-2a53-4639-9d85-58ce5a3935c7",
   "metadata": {
    "tags": []
   },
   "outputs": [
    {
     "name": "stdout",
     "output_type": "stream",
     "text": [
      "tensor([[19., 20., 21.],\n",
      "        [22., 23., 24.],\n",
      "        [25., 26., 27.]])\n",
      "tensor([[2, 2, 2],\n",
      "        [2, 2, 2],\n",
      "        [2, 2, 2]])\n"
     ]
    }
   ],
   "source": [
    "print(tt.max(dim=0)[0])\n",
    "print(tt.max(dim=0)[1])"
   ]
  },
  {
   "cell_type": "markdown",
   "id": "ef006bf9-7c56-4459-863f-56ceea795d15",
   "metadata": {
    "jp-MarkdownHeadingCollapsed": true,
    "tags": []
   },
   "source": [
    "# 3. Tensor Manipulation 2"
   ]
  },
  {
   "cell_type": "markdown",
   "id": "a4073d89-c236-4707-998f-73d674a8f690",
   "metadata": {
    "jp-MarkdownHeadingCollapsed": true,
    "tags": []
   },
   "source": [
    "## 텐서 크기 변환"
   ]
  },
  {
   "cell_type": "markdown",
   "id": "923c9a96-4cf7-4bbb-b6b5-6bee84173266",
   "metadata": {},
   "source": [
    "> view() 와 reshape()이 있는데, reshape()을 쓰는게 나아보임"
   ]
  },
  {
   "cell_type": "code",
   "execution_count": 48,
   "id": "1d7fd285-5a1d-4254-9394-b86b994e8119",
   "metadata": {
    "tags": []
   },
   "outputs": [
    {
     "name": "stdout",
     "output_type": "stream",
     "text": [
      "torch.Size([2, 2, 3])\n"
     ]
    }
   ],
   "source": [
    "t = np.array([[[0, 1, 2],\n",
    "               [3, 4, 5]],\n",
    "              [[6, 7, 8],\n",
    "               [9, 10, 11]]])\n",
    "ft = torch.FloatTensor(t)\n",
    "print(ft.shape)"
   ]
  },
  {
   "cell_type": "code",
   "execution_count": 50,
   "id": "3e46c360-e25c-4761-befb-a971fccb9a84",
   "metadata": {
    "tags": []
   },
   "outputs": [
    {
     "name": "stdout",
     "output_type": "stream",
     "text": [
      "tensor([[ 0.,  1.,  2.],\n",
      "        [ 3.,  4.,  5.],\n",
      "        [ 6.,  7.,  8.],\n",
      "        [ 9., 10., 11.]])\n",
      "torch.Size([4, 3])\n"
     ]
    }
   ],
   "source": [
    "print(ft.view([-1, 3])) # ft 텐서를 (?, 3) 크기로 변경\n",
    "print(ft.view([-1, 3]).shape)"
   ]
  },
  {
   "cell_type": "markdown",
   "id": "770ca5ca-1e3e-4f66-976b-38f69f2bdd59",
   "metadata": {
    "jp-MarkdownHeadingCollapsed": true,
    "tags": []
   },
   "source": [
    "## Squeeze"
   ]
  },
  {
   "cell_type": "markdown",
   "id": "f412ad01-711e-4582-a672-f2e0e7801b88",
   "metadata": {},
   "source": [
    "> 차원 내의 요소들이 하나만 있는 경우 그 차원을 없앤다."
   ]
  },
  {
   "cell_type": "code",
   "execution_count": 51,
   "id": "f09aa34b-67bf-4400-aa23-200fdfdaf0fc",
   "metadata": {
    "tags": []
   },
   "outputs": [
    {
     "name": "stdout",
     "output_type": "stream",
     "text": [
      "tensor([[0.],\n",
      "        [1.],\n",
      "        [2.]])\n",
      "torch.Size([3, 1])\n",
      "tensor([0., 1., 2.])\n",
      "torch.Size([3])\n"
     ]
    }
   ],
   "source": [
    "ft = torch.FloatTensor([[0], [1], [2]])\n",
    "print(ft)\n",
    "print(ft.shape)\n",
    "print(ft.squeeze())\n",
    "print(ft.squeeze().shape)"
   ]
  },
  {
   "cell_type": "markdown",
   "id": "4f245678-ec05-450d-895e-075dd7c55bcb",
   "metadata": {
    "jp-MarkdownHeadingCollapsed": true,
    "tags": []
   },
   "source": [
    "## Unsqueeze"
   ]
  },
  {
   "cell_type": "markdown",
   "id": "78487fa6-025e-44c9-8d5c-8ab2e0b91dff",
   "metadata": {},
   "source": [
    "> 특정 위치에 요소가 하나인 차원을 추가한다."
   ]
  },
  {
   "cell_type": "code",
   "execution_count": 52,
   "id": "ff1e1baa-66d8-4454-b5b0-cc639ac9721b",
   "metadata": {
    "tags": []
   },
   "outputs": [
    {
     "name": "stdout",
     "output_type": "stream",
     "text": [
      "torch.Size([3])\n",
      "tensor([[0., 1., 2.]])\n",
      "torch.Size([1, 3])\n"
     ]
    }
   ],
   "source": [
    "ft = torch.Tensor([0, 1, 2])\n",
    "print(ft.shape)\n",
    "print(ft.unsqueeze(0)) # 인덱스가 0부터 시작하므로 0은 첫번째 차원을 의미한다.\n",
    "print(ft.unsqueeze(0).shape)"
   ]
  },
  {
   "cell_type": "markdown",
   "id": "b03ca006-7f1e-463b-a2e8-a66a7b4fa331",
   "metadata": {
    "jp-MarkdownHeadingCollapsed": true,
    "tags": []
   },
   "source": [
    "## Type Casting"
   ]
  },
  {
   "attachments": {
    "02505672-ed90-436f-bee9-b874be3e170d.png": {
     "image/png": "[encoded data removed]"
    }
   },
   "cell_type": "markdown",
   "id": "d0926ead-64e0-4c60-8dee-fbd85ac3ae5e",
   "metadata": {},
   "source": [
    "![newimage.png](attachment:02505672-ed90-436f-bee9-b874be3e170d.png)"
   ]
  },
  {
   "cell_type": "code",
   "execution_count": 53,
   "id": "1788fd81-8347-423b-bd03-15f48d27a7f9",
   "metadata": {
    "tags": []
   },
   "outputs": [
    {
     "name": "stdout",
     "output_type": "stream",
     "text": [
      "tensor([1, 2, 3, 4])\n",
      "tensor([1., 2., 3., 4.])\n"
     ]
    }
   ],
   "source": [
    "lt = torch.LongTensor([1, 2, 3, 4])\n",
    "print(lt)\n",
    "print(lt.float())"
   ]
  },
  {
   "cell_type": "code",
   "execution_count": 54,
   "id": "ef7dcf8e-82bf-4b61-9353-3b598aa99340",
   "metadata": {
    "tags": []
   },
   "outputs": [
    {
     "name": "stdout",
     "output_type": "stream",
     "text": [
      "tensor([1, 0, 0, 1], dtype=torch.uint8)\n",
      "tensor([1, 0, 0, 1])\n",
      "tensor([1., 0., 0., 1.])\n"
     ]
    }
   ],
   "source": [
    "bt = torch.ByteTensor([True, False, False, True])\n",
    "print(bt)\n",
    "print(bt.long())\n",
    "print(bt.float())"
   ]
  },
  {
   "cell_type": "markdown",
   "id": "c33a7484-b17c-4d8b-87dd-3f2cb31352df",
   "metadata": {
    "jp-MarkdownHeadingCollapsed": true,
    "tags": []
   },
   "source": [
    "## Concatenate"
   ]
  },
  {
   "cell_type": "code",
   "execution_count": 56,
   "id": "13009dc3-9ffb-449f-b324-652bba9ba33f",
   "metadata": {
    "tags": []
   },
   "outputs": [],
   "source": [
    "x = torch.FloatTensor([[1, 2], [3, 4]])\n",
    "y = torch.FloatTensor([[5, 6], [7, 8]])"
   ]
  },
  {
   "cell_type": "code",
   "execution_count": 57,
   "id": "aa5b14ee-ad7c-421a-a239-db1d0f452c8e",
   "metadata": {
    "tags": []
   },
   "outputs": [
    {
     "name": "stdout",
     "output_type": "stream",
     "text": [
      "tensor([[1., 2.],\n",
      "        [3., 4.],\n",
      "        [5., 6.],\n",
      "        [7., 8.]])\n"
     ]
    }
   ],
   "source": [
    "print(torch.cat([x, y], dim=0))"
   ]
  },
  {
   "cell_type": "code",
   "execution_count": 59,
   "id": "27ca8010-d46c-4d98-b534-ad3173a6f912",
   "metadata": {
    "tags": []
   },
   "outputs": [
    {
     "name": "stdout",
     "output_type": "stream",
     "text": [
      "tensor([[1., 2., 5., 6.],\n",
      "        [3., 4., 7., 8.]])\n"
     ]
    }
   ],
   "source": [
    "print(torch.cat([x, y], dim=1))"
   ]
  },
  {
   "cell_type": "markdown",
   "id": "2210475a-9fa7-45b1-97c7-6a59713780ef",
   "metadata": {
    "jp-MarkdownHeadingCollapsed": true,
    "tags": []
   },
   "source": [
    "## Stacking"
   ]
  },
  {
   "cell_type": "code",
   "execution_count": 60,
   "id": "3b33f2d1-0f17-4b8d-b72b-f4c3d32c4539",
   "metadata": {
    "tags": []
   },
   "outputs": [],
   "source": [
    "x = torch.FloatTensor([1, 4])\n",
    "y = torch.FloatTensor([2, 5])\n",
    "z = torch.FloatTensor([3, 6])"
   ]
  },
  {
   "cell_type": "code",
   "execution_count": 61,
   "id": "f3eaafe1-6640-452a-b7f9-fad8dd0cfbe1",
   "metadata": {
    "tags": []
   },
   "outputs": [
    {
     "name": "stdout",
     "output_type": "stream",
     "text": [
      "tensor([[1., 4.],\n",
      "        [2., 5.],\n",
      "        [3., 6.]])\n"
     ]
    }
   ],
   "source": [
    "print(torch.stack([x, y, z]))"
   ]
  },
  {
   "cell_type": "code",
   "execution_count": 62,
   "id": "0013ff96-b923-441d-b699-4d2dd43a525f",
   "metadata": {
    "tags": []
   },
   "outputs": [
    {
     "name": "stdout",
     "output_type": "stream",
     "text": [
      "tensor([[1., 4.],\n",
      "        [2., 5.],\n",
      "        [3., 6.]])\n"
     ]
    }
   ],
   "source": [
    "print(torch.cat([x.unsqueeze(0), y.unsqueeze(0), z.unsqueeze(0)], dim=0)) # 2차원으로 만들고 쌓기"
   ]
  },
  {
   "cell_type": "code",
   "execution_count": 66,
   "id": "cf808830-732b-4a85-94d3-a63dd9666100",
   "metadata": {
    "tags": []
   },
   "outputs": [
    {
     "name": "stdout",
     "output_type": "stream",
     "text": [
      "tensor([[1., 2., 3.],\n",
      "        [4., 5., 6.]])\n"
     ]
    }
   ],
   "source": [
    "print(torch.stack([x, y, z], dim=1))"
   ]
  },
  {
   "cell_type": "markdown",
   "id": "37895892-3ff3-4db5-b433-00eaeddad76f",
   "metadata": {
    "jp-MarkdownHeadingCollapsed": true,
    "tags": []
   },
   "source": [
    "## ones_like, zeros_like"
   ]
  },
  {
   "cell_type": "code",
   "execution_count": 67,
   "id": "a14a5f58-9d42-49db-8ddd-9a5e6cbdb251",
   "metadata": {
    "tags": []
   },
   "outputs": [
    {
     "name": "stdout",
     "output_type": "stream",
     "text": [
      "tensor([[0., 1., 2.],\n",
      "        [2., 1., 0.]])\n"
     ]
    }
   ],
   "source": [
    "x = torch.FloatTensor([[0, 1, 2], [2, 1, 0]])\n",
    "print(x)"
   ]
  },
  {
   "cell_type": "code",
   "execution_count": 68,
   "id": "05b7d5d1-48b5-43ec-b318-3cbf169e06b5",
   "metadata": {
    "tags": []
   },
   "outputs": [
    {
     "name": "stdout",
     "output_type": "stream",
     "text": [
      "tensor([[1., 1., 1.],\n",
      "        [1., 1., 1.]])\n"
     ]
    }
   ],
   "source": [
    "print(torch.ones_like(x))"
   ]
  },
  {
   "cell_type": "code",
   "execution_count": 69,
   "id": "4df787ef-96c8-4679-b77d-ae0822e072c8",
   "metadata": {
    "tags": []
   },
   "outputs": [
    {
     "name": "stdout",
     "output_type": "stream",
     "text": [
      "tensor([[0., 0., 0.],\n",
      "        [0., 0., 0.]])\n"
     ]
    }
   ],
   "source": [
    "print(torch.zeros_like(x))"
   ]
  },
  {
   "cell_type": "code",
   "execution_count": null,
   "id": "0f4d7be2-e912-437e-858e-ad7fd12199ee",
   "metadata": {},
   "outputs": [],
   "source": []
  }
 ],
 "metadata": {
  "kernelspec": {
   "display_name": "Python 3",
   "language": "python",
   "name": "python3"
  },
  "language_info": {
   "codemirror_mode": {
    "name": "ipython",
    "version": 3
   },
   "file_extension": ".py",
   "mimetype": "text/x-python",
   "name": "python",
   "nbconvert_exporter": "python",
   "pygments_lexer": "ipython3",
   "version": "3.11.4"
  }
 },
 "nbformat": 4,
 "nbformat_minor": 5
}
