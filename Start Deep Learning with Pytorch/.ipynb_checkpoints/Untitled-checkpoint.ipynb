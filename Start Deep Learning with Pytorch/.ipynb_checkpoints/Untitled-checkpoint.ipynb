{
 "cells": [
  {
   "cell_type": "code",
   "execution_count": 97,
   "id": "8bd99dee-c362-46f9-927a-0d51c5b725fd",
   "metadata": {},
   "outputs": [],
   "source": [
    "import torch\n",
    "import torch.nn as nn\n",
    "import torch.nn.functional as F\n",
    "import torch.optim as optim"
   ]
  },
  {
   "cell_type": "code",
   "execution_count": 98,
   "id": "81a1b297-dce3-4f06-bf37-61e8877c5ff6",
   "metadata": {
    "tags": []
   },
   "outputs": [],
   "source": [
    "x_train = torch.FloatTensor([[1], [2], [3], [4], [5], [6]])\n",
    "y_train = torch.FloatTensor([[2], [4], [6], [8], [10], [12]])"
   ]
  },
  {
   "cell_type": "code",
   "execution_count": 115,
   "id": "babca233-9403-4b13-ad1a-3971f67ffc50",
   "metadata": {
    "tags": []
   },
   "outputs": [],
   "source": [
    "epochs = 3\n",
    "batch_size = 2"
   ]
  },
  {
   "cell_type": "code",
   "execution_count": 116,
   "id": "930b7e58-ddd2-47a9-97ec-4d9ea489beb9",
   "metadata": {
    "tags": []
   },
   "outputs": [],
   "source": [
    "W = torch.zeros(1, requires_grad=True)\n",
    "b = torch.zeros(1, requires_grad=True)"
   ]
  },
  {
   "cell_type": "code",
   "execution_count": 117,
   "id": "0946a222-087d-41fa-9df4-c061362c5658",
   "metadata": {
    "tags": []
   },
   "outputs": [],
   "source": [
    "optimizer = optim.SGD([W, b], lr=0.01)"
   ]
  },
  {
   "cell_type": "code",
   "execution_count": 118,
   "id": "abe2348a-5776-49d7-9f18-9804d76ea25a",
   "metadata": {
    "tags": []
   },
   "outputs": [
    {
     "name": "stdout",
     "output_type": "stream",
     "text": [
      "epoch 1\n",
      "x: tensor([[1.]])\n",
      "y: tensor([[2.]])\n",
      "W: 0.03999999910593033, b: 0.03999999910593033, loss: 4.0\n",
      "x: tensor([[2.]])\n",
      "y: tensor([[4.]])\n",
      "W: 0.19519999623298645, b: 0.11760000139474869, loss: 15.054400444030762\n",
      "x: tensor([[3.]])\n",
      "y: tensor([[6.]])\n",
      "W: 0.5130079984664917, b: 0.22353599965572357, loss: 28.05609130859375\n",
      "x: tensor([[4.]])\n",
      "y: tensor([[8.]])\n",
      "W: 0.9709625244140625, b: 0.33802464604377747, loss: 32.76912307739258\n",
      "x: tensor([[5.]])\n",
      "y: tensor([[10.]])\n",
      "W: 1.45167875289917, b: 0.43416789174079895, loss: 23.108814239501953\n",
      "x: tensor([[6.]])\n",
      "y: tensor([[12.]])\n",
      "W: 1.7943699359893799, b: 0.4912830889225006, loss: 8.155363082885742\n",
      "epoch 2\n",
      "x: tensor([[1.]])\n",
      "y: tensor([[2.]])\n",
      "W: 1.7886568307876587, b: 0.4855700135231018, loss: 0.081597700715065\n",
      "x: tensor([[2.]])\n",
      "y: tensor([[4.]])\n",
      "W: 1.7861415147781372, b: 0.4843123257160187, loss: 0.003954378888010979\n",
      "x: tensor([[3.]])\n",
      "y: tensor([[6.]])\n",
      "W: 1.7955772876739502, b: 0.4874575734138489, loss: 0.02473158948123455\n",
      "x: tensor([[4.]])\n",
      "y: tensor([[8.]])\n",
      "W: 1.8219959735870361, b: 0.49406224489212036, loss: 0.10905389487743378\n",
      "x: tensor([[5.]])\n",
      "y: tensor([[10.]])\n",
      "W: 1.8615918159484863, b: 0.5019813776016235, loss: 0.15678270161151886\n",
      "x: tensor([[6.]])\n",
      "y: tensor([[12.]])\n",
      "W: 1.901007890701294, b: 0.5085507035255432, loss: 0.10789081454277039\n",
      "epoch 3\n",
      "x: tensor([[1.]])\n",
      "y: tensor([[2.]])\n",
      "W: 1.8928166627883911, b: 0.5003595352172852, loss: 0.1677381992340088\n",
      "x: tensor([[2.]])\n",
      "y: tensor([[4.]])\n",
      "W: 1.8813769817352295, b: 0.49463969469070435, loss: 0.08179178088903427\n",
      "x: tensor([[3.]])\n",
      "y: tensor([[6.]])\n",
      "W: 1.8730506896972656, b: 0.49186429381370544, loss: 0.01925727352499962\n",
      "x: tensor([[4.]])\n",
      "y: tensor([[8.]])\n",
      "W: 1.8743252754211426, b: 0.4921829402446747, loss: 0.00025386165361851454\n",
      "x: tensor([[5.]])\n",
      "y: tensor([[10.]])\n",
      "W: 1.8879444599151611, b: 0.4949067533016205, loss: 0.018548088148236275\n",
      "x: tensor([[6.]])\n",
      "y: tensor([[12.]])\n",
      "W: 1.9092355966567993, b: 0.498455286026001, loss: 0.031480103731155396\n"
     ]
    }
   ],
   "source": [
    "for epoch in range(1, epochs+1):\n",
    "    print(f\"epoch {epoch}\")\n",
    "    for batch_idx in range(0, len(x_train), batch_size):\n",
    "        x = x_train[batch_idx:batch_idx+batch_size]\n",
    "        y = y_train[batch_idx:batch_idx+batch_size]\n",
    "        hypothesis = W * x + b\n",
    "        loss = torch.mean(((hypothesis) - y)**2)\n",
    "\n",
    "        optimizer.zero_grad()\n",
    "        loss.backward()\n",
    "        optimizer.step() \n",
    "        \n",
    "        print(\"x:\", x)\n",
    "        print(\"y:\", y)\n",
    "        print(f\"W: {W.item()}, b: {b.item()}, loss: {loss.item()}\")\n",
    "        \n",
    "        "
   ]
  },
  {
   "cell_type": "code",
   "execution_count": 41,
   "id": "f90d310c-f54f-4b4b-99aa-d4dc63b96008",
   "metadata": {
    "tags": []
   },
   "outputs": [],
   "source": [
    "x_train = torch.FloatTensor([[1], [2], [3]])\n",
    "y_train = torch.FloatTensor([[2], [4], [6]])\n",
    "W = torch.zeros(1, requires_grad=True) \n",
    "b = torch.zeros(1, requires_grad=True)\n",
    "epochs = 2000\n",
    "optimizer = optim.SGD([W, b], lr=0.01)"
   ]
  },
  {
   "cell_type": "code",
   "execution_count": 42,
   "id": "fc9923a1-01af-4cb0-be50-19da210835af",
   "metadata": {
    "tags": []
   },
   "outputs": [
    {
     "name": "stdout",
     "output_type": "stream",
     "text": [
      "Epoch    0/2000 W: 0.187, b: 0.080 Cost: 18.666666\n",
      "Epoch  100/2000 W: 1.746, b: 0.578 Cost: 0.048171\n",
      "Epoch  200/2000 W: 1.800, b: 0.454 Cost: 0.029767\n",
      "Epoch  300/2000 W: 1.843, b: 0.357 Cost: 0.018394\n",
      "Epoch  400/2000 W: 1.876, b: 0.281 Cost: 0.011366\n",
      "Epoch  500/2000 W: 1.903, b: 0.221 Cost: 0.007024\n",
      "Epoch  600/2000 W: 1.924, b: 0.174 Cost: 0.004340\n",
      "Epoch  700/2000 W: 1.940, b: 0.136 Cost: 0.002682\n",
      "Epoch  800/2000 W: 1.953, b: 0.107 Cost: 0.001657\n",
      "Epoch  900/2000 W: 1.963, b: 0.084 Cost: 0.001024\n",
      "Epoch 1000/2000 W: 1.971, b: 0.066 Cost: 0.000633\n",
      "Epoch 1100/2000 W: 1.977, b: 0.052 Cost: 0.000391\n",
      "Epoch 1200/2000 W: 1.982, b: 0.041 Cost: 0.000242\n",
      "Epoch 1300/2000 W: 1.986, b: 0.032 Cost: 0.000149\n",
      "Epoch 1400/2000 W: 1.989, b: 0.025 Cost: 0.000092\n",
      "Epoch 1500/2000 W: 1.991, b: 0.020 Cost: 0.000057\n",
      "Epoch 1600/2000 W: 1.993, b: 0.016 Cost: 0.000035\n",
      "Epoch 1700/2000 W: 1.995, b: 0.012 Cost: 0.000022\n",
      "Epoch 1800/2000 W: 1.996, b: 0.010 Cost: 0.000013\n",
      "Epoch 1900/2000 W: 1.997, b: 0.008 Cost: 0.000008\n"
     ]
    }
   ],
   "source": [
    "for epoch in range(epochs):\n",
    "    hypothesis = x_train * W + b\n",
    "    loss = torch.mean((hypothesis - y_train) ** 2)\n",
    "    \n",
    "    # gradient를 0으로 초기화\n",
    "    optimizer.zero_grad()\n",
    "\n",
    "    # 손실 함수를 미분하여 gradient 계산\n",
    "    loss.backward()\n",
    "\n",
    "    # W와 b를 업데이트\n",
    "    optimizer.step() \n",
    "    \n",
    "    # 100번마다 로그 출력\n",
    "    if epoch % 100 == 0:\n",
    "        print(f'Epoch {epoch:4d}/{epochs} W: {W.item():.3f}, b: {b.item():.3f} Cost: {loss.item():.6f}')"
   ]
  },
  {
   "cell_type": "code",
   "execution_count": null,
   "id": "9cdfc03b-60b0-4101-a04a-b4087bed51c0",
   "metadata": {},
   "outputs": [],
   "source": []
  }
 ],
 "metadata": {
  "kernelspec": {
   "display_name": "Python 3",
   "language": "python",
   "name": "python3"
  },
  "language_info": {
   "codemirror_mode": {
    "name": "ipython",
    "version": 3
   },
   "file_extension": ".py",
   "mimetype": "text/x-python",
   "name": "python",
   "nbconvert_exporter": "python",
   "pygments_lexer": "ipython3",
   "version": "3.11.4"
  }
 },
 "nbformat": 4,
 "nbformat_minor": 5
}
