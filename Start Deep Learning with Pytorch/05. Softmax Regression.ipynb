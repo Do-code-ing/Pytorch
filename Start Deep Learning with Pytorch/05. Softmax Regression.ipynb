{
 "cells": [
  {
   "cell_type": "markdown",
   "id": "17ab7bd3-4fe2-4b7f-94b0-025bac3b187e",
   "metadata": {},
   "source": [
    "# 5. Softmax Regression"
   ]
  },
  {
   "cell_type": "markdown",
   "id": "bb8bf68a-166d-4609-bb90-f4763d08a34c",
   "metadata": {},
   "source": [
    "> 소프트맥스 회귀는 3개 이상의 선택지로부터 1개를 선택하는  \n",
    "다중 클래스 분류(Multi-class classification)에서 사용한다."
   ]
  },
  {
   "cell_type": "markdown",
   "id": "e8d6fc4a-e157-4010-b6d0-9c7e53628fd9",
   "metadata": {},
   "source": [
    "## 5-1. One-Hot Encoding"
   ]
  },
  {
   "cell_type": "markdown",
   "id": "853dfc3b-4ccd-4f68-a410-60fb4b51ca70",
   "metadata": {},
   "source": [
    "> 원핫 인코딩은 범주형 데이터를 수치형 벡터 데이터로 바꾸는 것을 말한다.  \n",
    "강아지, 고양이, 냉장고라는 범주형 데이터가 있을 때,  \n",
    "강아지 = [1, 0, 0]  \n",
    "고양이 = [0, 1, 0]  \n",
    "냉장고 = [0, 0, 1]  \n",
    "위와같이 변환하는 것을 말한다."
   ]
  },
  {
   "cell_type": "markdown",
   "id": "c5b9a3ac-61e0-46d4-8ef9-cbfd1946e85d",
   "metadata": {},
   "source": [
    "## 5-2. Multi-class Classification"
   ]
  },
  {
   "attachments": {
    "7b671cb4-1d63-45e4-9a9a-f732ae8fd7c4.png": {
     "image/png": "[encoded data removed]"
    },
    "a5ea8b58-7c4b-4cc6-8dc4-27a7d9d0c1ff.png": {
     "image/png": "[encoded data removed]"
    }
   },
   "cell_type": "markdown",
   "id": "8723e4bb-f5e7-48c6-ad6a-f8ecd2a30dbb",
   "metadata": {},
   "source": [
    "> 로지스틱 회귀를 스팸 메일 분류기에 적용했을 때,  \n",
    "스팸일 확률이 0.75라면 스팸이 아닐 확률은 0.25가 된다.  \n",
    "이 두 확률의 총 합은 1이 된다.\n",
    "\n",
    "![로지스틱회귀.png](attachment:a5ea8b58-7c4b-4cc6-8dc4-27a7d9d0c1ff.png)\n",
    "\n",
    "> 소프트맥스 회귀 또한 총합이 1이 되는 아이디어를 적용한다.  \n",
    "각 선택지마다 소수 확률을 할당하고, 이때 총 확률의 합은 1이 되어야 한다.\n",
    "\n",
    "![소프트맥스회귀.png](attachment:7b671cb4-1d63-45e4-9a9a-f732ae8fd7c4.png)\n",
    "\n",
    ">즉, 소프트맥스 회귀는 선택지의 개수만큼의 차원을 가지는 벡터를 만들고,  \n",
    "해당 벡터가 벡터의 모든 원소의 합이 1이 되도록 원소들의 값을 변환시키는 어떤 함수를 지나야 한다.  \n",
    "이 함수를 소프트맥스 함수라고 한다."
   ]
  },
  {
   "cell_type": "markdown",
   "id": "e4c4d343-f374-4ee9-a494-bd1abe6fe970",
   "metadata": {},
   "source": [
    "## 5-3. Softmax Function"
   ]
  },
  {
   "attachments": {
    "a99ac378-953c-4dea-a66a-a11a4570fdbb.png": {
     "image/png": "[encoded data removed]"
    }
   },
   "cell_type": "markdown",
   "id": "21c1c227-f3f7-406c-8d16-ff82b2e0d2b4",
   "metadata": {},
   "source": [
    "> 소프트맥스 함수는 정답지(클래스)의 총 개수가 k일 때,  \n",
    "k차원의 벡터를 입력으로 받아 각 클래스에 대한 확률을 추정한다.\n",
    "\n",
    "> $z_i$ : k차원의 벡터에서 i번째 원소  \n",
    "$p_i$ : i번째 클래스가 정답일 확률\n",
    "\n",
    "### $p_{i}=\\frac{e^{z_{i}}}{\\sum_{j=1}^{k} e^{z_{j}}}\\ \\ \\text{for}\\ i=1, 2, ... k$\n",
    "\n",
    "|SepalLengthCm($x_1$)|SepalWidthCm($x_2$)|PetalLengthCm($x_3$)|PetalWidthCm($x_4$)|Species($y$)|\n",
    "|---|---|---|---|---|\n",
    "|5.1|3.5|1.4|0.2|setosa|\n",
    "|4.9|3.0|1.4|0.2|setosa|\n",
    "|5.8|2.6|4.0|1.2|versicolor|\n",
    "|6.7|3.0|5.2|2.3|virginica|\n",
    "|5.6|2.8|4.9|2.0|virginica|\n",
    "\n",
    ">위와 같은 4개의 입력(꽃받침 길이, 꽃받침 넓이, 꽃잎 길이, 꽃입 넓이)으로,  \n",
    "setosa, versicolor, virginica라는 3개의 붓꽃 품종 중 어떤 품종인지 확인한다고 할 때,  \n",
    "$k=3$이므로, 3차원 벡터 $z=[z_1,z_2,z_3]$의 입력을 받으면 소프트맥스 함수는 아래와 같은 출력을 낸다.\n",
    "\n",
    "### $softmax(z)=[\\frac{e^{z_{1}}}{\\sum_{j=1}^{3} e^{z_{j}}}\\ \\frac{e^{z_{2}}}{\\sum_{j=1}^{3} e^{z_{j}}}\\ \\frac{e^{z_{3}}}{\\sum_{j=1}^{3} e^{z_{j}}}] = [p_{1}, p_{2}, p_{3}] = \\hat{y} = \\text{예측값} = [p_{virginica}, p_{setosa}, p_{versicolor}]$\n",
    "> $p_1$, $p_2$, $p_3$은 각각의 클래스가 정답일 확률을 나타내며,  \n",
    "각각 0과 1사의 값으로 총합은 1이 된다.  \n",
    "\n",
    "![가설.png](attachment:a99ac378-953c-4dea-a66a-a11a4570fdbb.png)\n",
    "\n",
    "> 다시 위와 같이 표현할 수 있다.  \n",
    "여기서 $c$는 클래스의 개수를, $f$는 특성의 수를 나타낸다.\n",
    "\n",
    "> 전체 샘플의 개수가 5개, 특성이 4개 이므로  \n",
    "5×4 행렬 $X$로 정의한다.\n",
    "\n",
    "### $X=\n",
    "\\left(\n",
    "    \\begin{array}{c}\n",
    "      5.1\\ 3.5\\ 1.4\\ 0.2\\ \\\\\n",
    "      4.9\\ 3.0\\ 1.4\\ 0.2\\ \\\\\n",
    "      5.8\\ 2.6\\ 4.0\\ 1.2\\ \\\\\n",
    "      6.7\\ 3.0\\ 5.2\\ 2.3\\ \\\\\n",
    "      5.6\\ 2.8\\ 4.9\\ 2.0\\ \\\\\n",
    "    \\end{array}\n",
    "  \\right)\n",
    "$ \n",
    "> 각 행렬의 원소 위치를 반영한 변수로 표현하면 다음과 같다.\n",
    "\n",
    "### $X=\\left(\n",
    "    \\begin{array}{c}\n",
    "      x_{11}\\ x_{12}\\ x_{13}\\ x_{14}\\ \\\\\n",
    "      x_{21}\\ x_{22}\\ x_{23}\\ x_{24}\\ \\\\\n",
    "      x_{31}\\ x_{32}\\ x_{33}\\ x_{34}\\ \\\\\n",
    "      x_{41}\\ x_{42}\\ x_{43}\\ x_{44}\\ \\\\\n",
    "      x_{51}\\ x_{52}\\ x_{53}\\ x_{54}\\ \\\\\n",
    "    \\end{array}\n",
    "  \\right)\n",
    "$  \n",
    "> 선택지가 총 3개인 문제이므로 예측값으로 얻는 행렬 $\\hat{Y}$의 열의 개수는 3개여야 한다.  \n",
    "그리고 각 행은 행렬 $X$의 각 행의 예측값이므로 행의 크기는 동일해야 한다.  \n",
    "결과적으로 행렬 $\\hat{Y}$의 크기는 5×3이다.\n",
    "\n",
    "### $\\hat{Y}=\\left(\n",
    "    \\begin{array}{c}\n",
    "      y_{11}\\ y_{12}\\ y_{13}\\ \\\\\n",
    "      y_{21}\\ y_{22}\\ y_{23}\\ \\\\\n",
    "      y_{31}\\ y_{32}\\ y_{33}\\ \\\\\n",
    "      y_{41}\\ y_{42}\\ y_{43}\\ \\\\\n",
    "      y_{51}\\ y_{52}\\ y_{53}\\ \\\\\n",
    "    \\end{array}\n",
    "  \\right)\n",
    "  $\n",
    "> 5×4 입력 행렬 $X$, 5×3 예측값 행렬 $\\hat{Y}$를 보아,  \n",
    "가중치 행렬 $W$의 크기는 4×3임을 알 수 있다.\n",
    "\n",
    "### $W=\\left(\n",
    "    \\begin{array}{c}\n",
    "      w_{11}\\ w_{12}\\ w_{13}\\ \\\\\n",
    "      w_{21}\\ w_{22}\\ w_{23}\\ \\\\\n",
    "      w_{31}\\ w_{32}\\ w_{33}\\ \\\\\n",
    "      w_{41}\\ w_{42}\\ w_{43}\\ \\\\\n",
    "    \\end{array}\n",
    "  \\right)\n",
    "$\n",
    "> 편향 행렬 $B$는 예측값 행렬 $\\hat{Y}$와 크기가 같아야 하므로  \n",
    "5×3의 크기를 갖는다.\n",
    "\n",
    "### $B=\\left(\n",
    "    \\begin{array}{c}\n",
    "      b_{1}\\ b_{2}\\ b_{3}\\\\\n",
    "      b_{1}\\ b_{2}\\ b_{3}\\\\\n",
    "      b_{1}\\ b_{2}\\ b_{3}\\\\\n",
    "      b_{1}\\ b_{2}\\ b_{3}\\\\\n",
    "      b_{1}\\ b_{2}\\ b_{3}\\\\\n",
    "    \\end{array}\n",
    "  \\right)\n",
    "$\n",
    "> 결과적으로 가설식은 다음과 같다.\n",
    "\n",
    "### $\\hat{Y} = softmax(XW + B)$\n",
    "### $\\left(\n",
    "    \\begin{array}{c}\n",
    "      y_{11}\\ y_{12}\\ y_{13}\\ \\\\\n",
    "      y_{21}\\ y_{22}\\ y_{23}\\ \\\\\n",
    "      y_{31}\\ y_{32}\\ y_{33}\\ \\\\\n",
    "      y_{41}\\ y_{42}\\ y_{43}\\ \\\\\n",
    "      y_{51}\\ y_{52}\\ y_{53}\\ \\\\\n",
    "    \\end{array}\n",
    "  \\right)\n",
    "=\n",
    "softmax\\left(\n",
    "\\left(\n",
    "    \\begin{array}{c}\n",
    "      x_{11}\\ x_{12}\\ x_{13}\\ x_{14}\\ \\\\\n",
    "      x_{21}\\ x_{22}\\ x_{23}\\ x_{24}\\ \\\\\n",
    "      x_{31}\\ x_{32}\\ x_{33}\\ x_{34}\\ \\\\\n",
    "      x_{41}\\ x_{42}\\ x_{43}\\ x_{44}\\ \\\\\n",
    "      x_{51}\\ x_{52}\\ x_{53}\\ x_{54}\\ \\\\\n",
    "    \\end{array}\n",
    "  \\right)\n",
    "\\left(\n",
    "    \\begin{array}{c}\n",
    "      w_{11}\\ w_{12}\\ w_{13}\\ \\\\\n",
    "      w_{21}\\ w_{22}\\ w_{23}\\ \\\\\n",
    "      w_{31}\\ w_{32}\\ w_{33}\\ \\\\\n",
    "      w_{41}\\ w_{42}\\ w_{43}\\ \\\\\n",
    "    \\end{array}\n",
    "  \\right)\n",
    "+\n",
    "\\left(\n",
    "    \\begin{array}{c}\n",
    "      b_{1}\\ b_{2}\\ b_{3}\\\\\n",
    "      b_{1}\\ b_{2}\\ b_{3}\\\\\n",
    "      b_{1}\\ b_{2}\\ b_{3}\\\\\n",
    "      b_{1}\\ b_{2}\\ b_{3}\\\\\n",
    "      b_{1}\\ b_{2}\\ b_{3}\\\\\n",
    "    \\end{array}\n",
    "  \\right)\n",
    "\\right)$"
   ]
  },
  {
   "cell_type": "markdown",
   "id": "b5c740b0-9914-451a-ae8e-32fa2cd30d5d",
   "metadata": {},
   "source": [
    "## 5-5. Loss Function"
   ]
  },
  {
   "cell_type": "markdown",
   "id": "85251ff2-aa5f-4e42-9a12-d57e2b0bb1e6",
   "metadata": {},
   "source": [
    "> 소프트맥스 회귀에서는 손실 함수로 **크로스 엔트로피 함수**를 사용한다.  \n",
    "크로스 엔트로피 함수와 다양한 표기 방법에 대해 이해해보자.\n",
    "\n",
    "> $y$ : 실제값  \n",
    "$k$ : 클래스 개수  \n",
    "$y_j$ : 실제값 원-핫 벡터의 $j$번째 인덱스  \n",
    "$p_j$ : 샘플 데이터가 $j$번째 클래스일 확률 ($=\\hat{y}_j$)\n",
    "\n",
    "### $loss(W) = -\\displaystyle\\sum_{j=1}^{k}y_{j}\\ \\log(p_{j})$\n",
    "\n",
    "> 만약 $c$가 실제값 원-핫 벡터에서 1을 가진 원소의 인덱스라고 한다면,  \n",
    "$p_c = 1$은 $\\hat{y}$가 $y$를 정확하게 예측한 경우가 된다.  \n",
    "이를 식에 대입해보면 $-1\\log(1)=0$이 되기 때문에,  \n",
    "결과적으로 $\\hat{y}$가 $y$를 정확하게 예측한 경우의 크로스 엔트로피 함수의 값은 0이 된다.  \n",
    "즉 위 손실 함수를 최소화하는 방향으로 학습할 수 있다.\n",
    "\n",
    "> 이제 이를 $n$개의 전체 데이터에 대한 평균을 구한다고 하면 최종 손실 함수는 다음과 같다.\n",
    "\n",
    "### $loss(W) = -\\frac{1}{n} \\displaystyle\\sum_{i=1}^{n} \\sum_{j=1}^{k}y_{j}^{(i)}\\ log(p_{j}^{(i)})$"
   ]
  },
  {
   "cell_type": "markdown",
   "id": "f30e9348-b4fd-4c45-85d5-e23c60a0506d",
   "metadata": {},
   "source": [
    "## 5-6. Binary Cross Entropy"
   ]
  },
  {
   "cell_type": "markdown",
   "id": "c4cffd0b-818d-46e3-afa0-262e268c01fb",
   "metadata": {
    "tags": []
   },
   "source": [
    "> 위 수식은 로지스틱 회귀에서 배운 크로스 엔트로피 함수식과 달라보이지만,  \n",
    "본질적으로 동일한 함수식이다.  \n",
    "로지스틱 회귀의 크로스 엔트로피 함수식으로부터 소프트맥스 회귀의 크로스 엔트로피 함수식을 도출해보자.\n",
    "\n",
    "### $loss(W) = -(y\\ \\log H(X) + (1-y)\\ \\log(1-H(X)))$\n",
    "\n",
    "> 위 식에서 $y$를 $y_1$, $1-y$를 $y_2$로 치환하고,  \n",
    "$H(X)$를 $p_1$, $1-H(X)$를 $p_2$로 치환해보자.\n",
    "\n",
    "### $-(y_{1}\\ log(p_{1})+y_{2}\\ log(p_{2}))$\n",
    "\n",
    "> 위 식은 다음과 같이 표현할 수 있다.\n",
    "\n",
    "### $-(\\displaystyle\\sum_{i=1}^{2}y_{i}\\ \\log\\ p_{i})$\n",
    "\n",
    "> 소프트맥스 회귀에서는 $k$의 값이 고정된게 아니므로,  \n",
    "$2$를 $k$로 변경하자.\n",
    "\n",
    "### $-(\\displaystyle\\sum_{i=1}^{k}y_{i}\\ \\log\\ p_{i})$\n",
    "\n",
    "> 이제 소프트맥스 회귀의 손실 함수 식과 똑같아졌다.  \n",
    "역으로도 가능하다.  \n",
    "정리하면 소프트맥스 함수의 최종 손실 함수에서 $k$가 $2$라고 가정하면  \n",
    "결국 로지스틱 회귀의 손실 함수와 같다.\n",
    "\n",
    "### $loss(W) = \\displaystyle-\\frac{1}{n} \\sum_{i=1}^{n} \\sum_{j=1}^{k}y_{j}^{(i)}\\ \\log(p_{j}^{(i)}) = -\\frac{1}{n} \\sum_{i=1}^{n} [y^{(i)}\\log(p^{(i)}) + (1-y^{(i)})\\log(1-p^{(i)})]$"
   ]
  },
  {
   "cell_type": "markdown",
   "id": "8606fcbd-70b7-4033-9aec-5d1a07708fd9",
   "metadata": {
    "tags": []
   },
   "source": [
    "## 5-7. Implement Loss Function in Softmax Regression (Low Level)"
   ]
  },
  {
   "cell_type": "code",
   "execution_count": 1,
   "id": "b85e8dd7-9ca4-4c4e-96f0-a6cb4231e640",
   "metadata": {
    "tags": []
   },
   "outputs": [],
   "source": [
    "import torch\n",
    "import torch.nn.functional as F"
   ]
  },
  {
   "cell_type": "code",
   "execution_count": 2,
   "id": "9871d16b-05a5-4efe-8349-aeba06c8f9c0",
   "metadata": {
    "tags": []
   },
   "outputs": [
    {
     "data": {
      "text/plain": [
       "<torch._C.Generator at 0x1e0363362b0>"
      ]
     },
     "execution_count": 2,
     "metadata": {},
     "output_type": "execute_result"
    }
   ],
   "source": [
    "torch.manual_seed(1)"
   ]
  },
  {
   "cell_type": "markdown",
   "id": "37958ad3-a939-4a8d-99ff-4d0ac227a3f4",
   "metadata": {},
   "source": [
    "> 소프트맥스 회귀를 구현하기 전에 먼저 소프트맥스 함수의 손실 함수를 구현해보자  "
   ]
  },
  {
   "cell_type": "code",
   "execution_count": 3,
   "id": "8e53d0ff-bdd7-4dae-b1d0-a0bce7d46bde",
   "metadata": {
    "tags": []
   },
   "outputs": [],
   "source": [
    "z = torch.FloatTensor([1, 2, 3])"
   ]
  },
  {
   "cell_type": "code",
   "execution_count": 4,
   "id": "d693d048-3932-4f9d-a9c9-694147e5f56b",
   "metadata": {
    "tags": []
   },
   "outputs": [
    {
     "name": "stdout",
     "output_type": "stream",
     "text": [
      "tensor([0.0900, 0.2447, 0.6652])\n"
     ]
    }
   ],
   "source": [
    "hypothesis = F.softmax(z, dim=0)\n",
    "print(hypothesis)"
   ]
  },
  {
   "cell_type": "markdown",
   "id": "64a95213-afa6-4d94-a19e-dfa4bbe466fa",
   "metadata": {},
   "source": [
    "> 3개의 원소 값이 0과 1사이의 값을 가지고 있다.  \n",
    "이 원소들의 합이 1인지 확인해보자."
   ]
  },
  {
   "cell_type": "code",
   "execution_count": 5,
   "id": "e0718a99-8e54-4ed3-8c5a-ffe3763e996a",
   "metadata": {
    "tags": []
   },
   "outputs": [
    {
     "data": {
      "text/plain": [
       "tensor(1.)"
      ]
     },
     "execution_count": 5,
     "metadata": {},
     "output_type": "execute_result"
    }
   ],
   "source": [
    "hypothesis.sum()"
   ]
  },
  {
   "cell_type": "markdown",
   "id": "6c30273b-3dd0-449d-9c47-2984633a6d2b",
   "metadata": {},
   "source": [
    "> 손실 함수를 구현해보자.  \n",
    "먼저 임의의 3×5 텐서를 만든다."
   ]
  },
  {
   "cell_type": "code",
   "execution_count": 6,
   "id": "c52be027-3820-4eb6-9c21-d17979c15056",
   "metadata": {
    "tags": []
   },
   "outputs": [],
   "source": [
    "z = torch.rand(3, 5, requires_grad=True)"
   ]
  },
  {
   "cell_type": "markdown",
   "id": "4cad9e15-235c-4174-ac84-c7597978d935",
   "metadata": {},
   "source": [
    "> 이제 이 텐서에 대해 소프트맥스 함수를 적용한다.  \n",
    "단, 각 샘플에 대해서 소프트맥스 함수를 적용해야 하므로,  \n",
    "두 번째 차원에 대해서 소프트맥스 함수를 적용한다는 의미에서 `dim=1`을 써준다."
   ]
  },
  {
   "cell_type": "code",
   "execution_count": 7,
   "id": "31936f98-cdfc-412e-8fce-edd5242009b1",
   "metadata": {
    "tags": []
   },
   "outputs": [
    {
     "name": "stdout",
     "output_type": "stream",
     "text": [
      "tensor([[0.2645, 0.1639, 0.1855, 0.2585, 0.1277],\n",
      "        [0.2430, 0.1624, 0.2322, 0.1930, 0.1694],\n",
      "        [0.2226, 0.1986, 0.2326, 0.1594, 0.1868]], grad_fn=<SoftmaxBackward0>)\n"
     ]
    }
   ],
   "source": [
    "hypothesis = F.softmax(z, dim=1)\n",
    "print(hypothesis)"
   ]
  },
  {
   "cell_type": "markdown",
   "id": "b8b9fcda-6e48-4c51-8f59-bf37fc1484cb",
   "metadata": {},
   "source": [
    "> 이제 각 행의 원소들의 합이 1이 되는 텐서로 변환됐다.  \n",
    "소프트맥스 함수의 출력값은 결국 예측값이다.  \n",
    "즉, 위 텐서는 3개의 샘플에 대해서 5개의 클래스 중 어떤 클래스가 정답인지를 예측한 결과다.\n",
    "\n",
    "> 이제 각 샘플에 대해 임의의 레이블을 만들자."
   ]
  },
  {
   "cell_type": "code",
   "execution_count": 8,
   "id": "391bae9c-7456-424a-adc6-ecad124b0bf7",
   "metadata": {
    "tags": []
   },
   "outputs": [
    {
     "name": "stdout",
     "output_type": "stream",
     "text": [
      "tensor([0, 2, 1])\n"
     ]
    }
   ],
   "source": [
    "y = torch.randint(5, (3,)).long() # 0~4사이의 첫 차원의 요소 수가 3인 텐서 생성\n",
    "print(y)"
   ]
  },
  {
   "cell_type": "markdown",
   "id": "ebd0b186-5761-4abb-a360-40b41a562249",
   "metadata": {},
   "source": [
    "> 각 레이블에 대해 원-핫 인코딩을 수행하자."
   ]
  },
  {
   "cell_type": "code",
   "execution_count": 9,
   "id": "b53a5b11-0f9e-41e7-a154-cee1892d5dcc",
   "metadata": {
    "tags": []
   },
   "outputs": [
    {
     "data": {
      "text/plain": [
       "tensor([[1., 0., 0., 0., 0.],\n",
       "        [0., 0., 1., 0., 0.],\n",
       "        [0., 1., 0., 0., 0.]])"
      ]
     },
     "execution_count": 9,
     "metadata": {},
     "output_type": "execute_result"
    }
   ],
   "source": [
    "# 모든 원소가 0의 값을 가진 3×5 텐서 생성\n",
    "y_one_hot = torch.zeros_like(hypothesis)\n",
    "y_one_hot.scatter_(1, y.unsqueeze(1), 1)"
   ]
  },
  {
   "cell_type": "markdown",
   "id": "3994032c-a2e2-4269-af6d-d61a418daf89",
   "metadata": {},
   "source": [
    "> `y_one_hot.scatter(1, y.squeeze(1), 1)`을 해석해보자.  \n",
    "첫 번째 인자인 1은 `dim=1`로, scatter할 차원을 의미한다.  \n",
    "두 번째 인자에서 `y.unsqueeze(1)`은 (3,) 크기인 y를 (3, 1) 크기로 바꾸는 역할을 하며,  \n",
    "scatter할 위치를 의미한다.  \n",
    "세 번째 인자인 `1`은 앞서 두 인자로 정해진 차원과 위치에 1을 표기할 것을 의미한다.\n",
    "\n",
    "> 결과적으로 원-핫 인코딩되었다."
   ]
  },
  {
   "cell_type": "markdown",
   "id": "e4719221-8258-4ea3-8abf-b0efda8d0f0e",
   "metadata": {},
   "source": [
    "> 소프트맥스 회귀의 손실 함수는 다음과 같고,  \n",
    "\n",
    "### $loss(W) = -\\frac{1}{n} \\sum_{i=1}^{n} \\sum_{j=1}^{k}y_{j}^{(i)}\\ \\log(p_{j}^{(i)})$\n",
    "\n",
    "> 마이너스 부호를 뒤로 빼면 다음 식과 같다.  \n",
    "\n",
    "### $loss(W) = \\frac{1}{n} \\sum_{i=1}^{n} \\sum_{j=1}^{k}y_{j}^{(i)}\\ × (-\\log(p_{j}^{(i)}))$\n",
    "\n",
    "$\\sum_{j=1}^{k}$는 `sum(dim=1)`로 구현하고, $\\frac{1}{n} \\sum_{i=1}^{n}$은 `mean()`으로 구현할 수 있다."
   ]
  },
  {
   "cell_type": "code",
   "execution_count": 10,
   "id": "eab5f917-8fa6-44d0-894a-501899e42972",
   "metadata": {
    "tags": []
   },
   "outputs": [
    {
     "name": "stdout",
     "output_type": "stream",
     "text": [
      "tensor(1.4689, grad_fn=<MeanBackward0>)\n"
     ]
    }
   ],
   "source": [
    "loss = (y_one_hot * -torch.log(hypothesis)).sum(dim=1).mean()\n",
    "print(loss)"
   ]
  },
  {
   "cell_type": "markdown",
   "id": "7f793dcc-eeee-4e3f-9aea-2ed8ca5db8dd",
   "metadata": {},
   "source": [
    "## 5-8 Implement Loss Function in Softmax Regression (High Level)"
   ]
  },
  {
   "cell_type": "markdown",
   "id": "8791afa2-aa31-4f92-bab2-792cf7e3d02d",
   "metadata": {
    "tags": []
   },
   "source": [
    "### F.softmax() + torch.log() = F.log_softmax()\n",
    "\n",
    "> 앞서 소프트맥스 함수의 결과에 로그를 씌울 때는  \n",
    "다음과 같이 소프트맥스 함수의 출력값을 로그 함수의 입력으로 사용했었다.  "
   ]
  },
  {
   "cell_type": "code",
   "execution_count": 11,
   "id": "0bb46cfa-a96c-4267-a2d6-4581a0d47192",
   "metadata": {
    "tags": []
   },
   "outputs": [
    {
     "data": {
      "text/plain": [
       "tensor([[-1.3301, -1.8084, -1.6846, -1.3530, -2.0584],\n",
       "        [-1.4147, -1.8174, -1.4602, -1.6450, -1.7758],\n",
       "        [-1.5025, -1.6165, -1.4586, -1.8360, -1.6776]], grad_fn=<LogBackward0>)"
      ]
     },
     "execution_count": 11,
     "metadata": {},
     "output_type": "execute_result"
    }
   ],
   "source": [
    "# Low Level\n",
    "torch.log(F.softmax(z, dim=1))"
   ]
  },
  {
   "cell_type": "markdown",
   "id": "5ebfdbcf-215c-4ddf-85a3-b265fb0d6262",
   "metadata": {},
   "source": [
    "> pytorch에는 이미 두 개의 함수를 결합한 `F.log_softmax()`를 제공하고 있다."
   ]
  },
  {
   "cell_type": "code",
   "execution_count": 12,
   "id": "2a6afb39-cced-43dd-8f9c-171c1e127291",
   "metadata": {
    "tags": []
   },
   "outputs": [
    {
     "data": {
      "text/plain": [
       "tensor([[-1.3301, -1.8084, -1.6846, -1.3530, -2.0584],\n",
       "        [-1.4147, -1.8174, -1.4602, -1.6450, -1.7758],\n",
       "        [-1.5025, -1.6165, -1.4586, -1.8360, -1.6776]],\n",
       "       grad_fn=<LogSoftmaxBackward0>)"
      ]
     },
     "execution_count": 12,
     "metadata": {},
     "output_type": "execute_result"
    }
   ],
   "source": [
    "# High Level\n",
    "F.log_softmax(z, dim=1)"
   ]
  },
  {
   "cell_type": "markdown",
   "id": "1f0d8399-5d93-4e0e-a366-643250086332",
   "metadata": {},
   "source": [
    "### F.log_softmax() + F.nll_loss() = F.cross_entropy()\n",
    "> 앞서 로우 레벨에서 손실 함수는 다음과 같이 구현했었다."
   ]
  },
  {
   "cell_type": "code",
   "execution_count": 13,
   "id": "51dc2e7e-8d2b-4b70-b548-3f1b53916c5f",
   "metadata": {
    "tags": []
   },
   "outputs": [
    {
     "data": {
      "text/plain": [
       "tensor(1.4689, grad_fn=<MeanBackward0>)"
      ]
     },
     "execution_count": 13,
     "metadata": {},
     "output_type": "execute_result"
    }
   ],
   "source": [
    "# Low Level\n",
    "(y_one_hot * -torch.log(F.softmax(z, dim=1))).sum(dim=1).mean()"
   ]
  },
  {
   "cell_type": "markdown",
   "id": "d1a9ed62-96b5-4960-8eb5-b1a72644f85e",
   "metadata": {},
   "source": [
    "> 방금 수식에서 `torch.log(F.softmax(z, dim=1))`를 `F.log_softmax(z, dim=1)`로 대체할 수 있다."
   ]
  },
  {
   "cell_type": "code",
   "execution_count": 14,
   "id": "1ced632a-6aa4-40d7-b9ce-b271925689e7",
   "metadata": {
    "tags": []
   },
   "outputs": [
    {
     "data": {
      "text/plain": [
       "tensor(1.4689, grad_fn=<MeanBackward0>)"
      ]
     },
     "execution_count": 14,
     "metadata": {},
     "output_type": "execute_result"
    }
   ],
   "source": [
    "(y_one_hot * -F.log_softmax(z, dim=1)).sum(dim=1).mean()"
   ]
  },
  {
   "cell_type": "markdown",
   "id": "4727e44d-b775-4dfa-90f7-cb842b7ee83f",
   "metadata": {},
   "source": [
    "> 여기서 더 나아가 `F.nll_loss()`를 사용하면 원-핫 벡터를 넣을 필요없이  \n",
    "바로 실제값을 인자로 사용할 수 있다."
   ]
  },
  {
   "cell_type": "code",
   "execution_count": 15,
   "id": "d2eb16d0-7c46-4af5-a9a2-b09e0ebdfea5",
   "metadata": {
    "tags": []
   },
   "outputs": [
    {
     "data": {
      "text/plain": [
       "tensor(1.4689, grad_fn=<NllLossBackward0>)"
      ]
     },
     "execution_count": 15,
     "metadata": {},
     "output_type": "execute_result"
    }
   ],
   "source": [
    "# High Level\n",
    "F.nll_loss(F.log_softmax(z, dim=1), y)"
   ]
  },
  {
   "cell_type": "markdown",
   "id": "c976f830-b9c2-40f9-80b8-1c887f2c2a2e",
   "metadata": {},
   "source": [
    "> 여기서 nll이란, Negative Log Likelihood의 약자다.  \n",
    "`nll_loss`는 `F.log_softmax()`를 수행한 후에 남은 수식들을 수행한다.  \n",
    "이를 더 간단히 할 수도 있다."
   ]
  },
  {
   "cell_type": "code",
   "execution_count": 16,
   "id": "4233fc0c-ffb9-420a-9bfb-5d36decb7649",
   "metadata": {
    "tags": []
   },
   "outputs": [
    {
     "data": {
      "text/plain": [
       "tensor(1.4689, grad_fn=<NllLossBackward0>)"
      ]
     },
     "execution_count": 16,
     "metadata": {},
     "output_type": "execute_result"
    }
   ],
   "source": [
    "F.cross_entropy(z, y)"
   ]
  },
  {
   "cell_type": "markdown",
   "id": "b6388098-c8c9-48ce-a735-55c1beb909f5",
   "metadata": {},
   "source": [
    "> `F.cross_entropy()`는 `F.log_softmax()`와 `F.nll_loss()`를 포함하고 있다."
   ]
  },
  {
   "cell_type": "markdown",
   "id": "f98b675c-cb4b-414e-8cf0-5fc5ed6f7082",
   "metadata": {
    "jp-MarkdownHeadingCollapsed": true,
    "tags": []
   },
   "source": [
    "## 5-9. Implement Softmax Regression (Low Level)"
   ]
  },
  {
   "cell_type": "code",
   "execution_count": 17,
   "id": "592eac95-6591-420a-b804-28976164f692",
   "metadata": {
    "tags": []
   },
   "outputs": [],
   "source": [
    "import torch\n",
    "import torch.nn as nn\n",
    "import torch.nn.functional as F\n",
    "import torch.optim as optim"
   ]
  },
  {
   "cell_type": "code",
   "execution_count": 18,
   "id": "c56bf080-cb04-49b4-aa97-f59191d39320",
   "metadata": {
    "tags": []
   },
   "outputs": [
    {
     "data": {
      "text/plain": [
       "<torch._C.Generator at 0x1e0363362b0>"
      ]
     },
     "execution_count": 18,
     "metadata": {},
     "output_type": "execute_result"
    }
   ],
   "source": [
    "torch.manual_seed(1)"
   ]
  },
  {
   "cell_type": "markdown",
   "id": "1e2cf294-1982-473c-a502-5d3e65fc133b",
   "metadata": {},
   "source": [
    "> 훈련 데이터와 레이블을 준비하자.  \n",
    "x_train의 각 샘플은 4개의 특성을 가지고 있고, 총 8개의 샘플이 있다.  \n",
    "y_train은 각 샘플에 대한 레이블인데, 0, 1, 2의 값을 가지는 것을 보아 총 3개의 클래스가 존재한다."
   ]
  },
  {
   "cell_type": "code",
   "execution_count": 19,
   "id": "6893fc6d-38be-4839-b51c-4d5a3fa6acfa",
   "metadata": {
    "tags": []
   },
   "outputs": [],
   "source": [
    "x_train = [[1, 2, 1, 1],\n",
    "           [2, 1, 3, 2],\n",
    "           [3, 1, 3, 4],\n",
    "           [4, 1, 5, 5],\n",
    "           [1, 7, 5, 5],\n",
    "           [1, 2, 5, 6],\n",
    "           [1, 6, 6, 6],\n",
    "           [1, 7, 7, 7]]\n",
    "y_train = [2, 2, 2, 1, 1, 1, 0, 0]\n",
    "x_train = torch.FloatTensor(x_train)\n",
    "y_train = torch.LongTensor(y_train)"
   ]
  },
  {
   "cell_type": "code",
   "execution_count": 20,
   "id": "229924ed-5fb3-4953-9352-fae1e28fe135",
   "metadata": {
    "tags": []
   },
   "outputs": [
    {
     "name": "stdout",
     "output_type": "stream",
     "text": [
      "torch.Size([8, 4])\n",
      "torch.Size([8])\n"
     ]
    }
   ],
   "source": [
    "print(x_train.shape)\n",
    "print(y_train.shape)"
   ]
  },
  {
   "cell_type": "markdown",
   "id": "6c34985b-c879-4a2e-b551-fed9a7def736",
   "metadata": {},
   "source": [
    "> x_train의 크기는 8×4이며, y_train의 크기는 8×1이다.  \n",
    "최종 사용할 레이블은 y_train에서 원-핫 인코딩을 한 결과여야 하므로,  \n",
    "클래스의 개수가 3개인 것을 생각해보면, 8×3 크기여야 한다."
   ]
  },
  {
   "cell_type": "code",
   "execution_count": 21,
   "id": "96578e21-b10b-443a-a400-b63b9ea7de6d",
   "metadata": {
    "tags": []
   },
   "outputs": [
    {
     "name": "stdout",
     "output_type": "stream",
     "text": [
      "torch.Size([8, 3])\n"
     ]
    }
   ],
   "source": [
    "y_one_hot = torch.zeros(8, 3)\n",
    "y_one_hot.scatter_(1, y.unsqueeze(1), 1)\n",
    "print(y_one_hot.shape)"
   ]
  },
  {
   "cell_type": "markdown",
   "id": "c33875c9-7917-48de-9bfb-7916e1e964c9",
   "metadata": {},
   "source": [
    "> 다음으로 모델을 초기화해보자.  \n",
    "총 3개의 클래스가 존재하므로,  \n",
    "W 행렬의 크기는 4×3이어야 한다."
   ]
  },
  {
   "cell_type": "code",
   "execution_count": 22,
   "id": "a25800fa-47a1-46d9-a39e-845e08ff589d",
   "metadata": {
    "tags": []
   },
   "outputs": [],
   "source": [
    "# 모델 초기화\n",
    "W = torch.zeros((4, 3), requires_grad=True)\n",
    "b = torch.zeros((1, 3), requires_grad=True)\n",
    "\n",
    "# optimizer 설정\n",
    "optimizer = optim.SGD([W, b], lr=0.1)"
   ]
  },
  {
   "cell_type": "markdown",
   "id": "e30db38a-ed19-4c87-ab21-4314964ff2b6",
   "metadata": {},
   "source": [
    "> F.softmax()와 torch.log()를 사용하여 가설과 손실 함수를 정의하고,  \n",
    "총 1000번의 에포크를 수행하자."
   ]
  },
  {
   "cell_type": "code",
   "execution_count": 23,
   "id": "9531e23f-d207-44e8-9ee1-5b984d6d5b58",
   "metadata": {
    "tags": []
   },
   "outputs": [
    {
     "name": "stdout",
     "output_type": "stream",
     "text": [
      "Epoch    0/1000 Loss: 0.411980\n",
      "Epoch  100/1000 Loss: 0.134763\n",
      "Epoch  200/1000 Loss: 0.074787\n",
      "Epoch  300/1000 Loss: 0.050532\n",
      "Epoch  400/1000 Loss: 0.037793\n",
      "Epoch  500/1000 Loss: 0.030045\n",
      "Epoch  600/1000 Loss: 0.024871\n",
      "Epoch  700/1000 Loss: 0.021185\n",
      "Epoch  800/1000 Loss: 0.018432\n",
      "Epoch  900/1000 Loss: 0.016302\n",
      "Epoch 1000/1000 Loss: 0.014606\n"
     ]
    }
   ],
   "source": [
    "epochs = 1000\n",
    "for epoch in range(epochs+1):\n",
    "    hypothesis = F.softmax(x_train.matmul(W)+b, dim=1)\n",
    "    loss = (y_one_hot * -torch.log(hypothesis)).sum(dim=1).mean()\n",
    "    \n",
    "    optimizer.zero_grad()\n",
    "    loss.backward()\n",
    "    optimizer.step()\n",
    "    \n",
    "    if epoch % 100 == 0:\n",
    "        print(f'Epoch {epoch:4d}/{epochs} Loss: {loss.item():.6f}')"
   ]
  },
  {
   "cell_type": "markdown",
   "id": "c13ebd3f-2802-47db-8f6e-c9ec91ca9f3e",
   "metadata": {
    "tags": []
   },
   "source": [
    "## 5-10. Implement Softmax Regression (High Level)"
   ]
  },
  {
   "cell_type": "markdown",
   "id": "c4117db0-b6b0-4f4a-8f87-580b052439d1",
   "metadata": {},
   "source": [
    "> `F.cross_entropy()`를 사용해서 손실 함수를 구현해보자.  \n",
    "주의할 점은 `F.cross_entropy()`는 그 자체로 소프트맥스 함수를 포함하고 있으므로  \n",
    "가설에서는 소프트맥스 함수를 사용할 필요가 없다."
   ]
  },
  {
   "cell_type": "code",
   "execution_count": 24,
   "id": "3712f3d5-876b-40f4-ad53-1118d20ff3a7",
   "metadata": {
    "tags": []
   },
   "outputs": [
    {
     "name": "stdout",
     "output_type": "stream",
     "text": [
      "Epoch    0/1000 Loss: 1.098612\n",
      "Epoch  100/1000 Loss: 0.704199\n",
      "Epoch  200/1000 Loss: 0.622999\n",
      "Epoch  300/1000 Loss: 0.565717\n",
      "Epoch  400/1000 Loss: 0.515291\n",
      "Epoch  500/1000 Loss: 0.467662\n",
      "Epoch  600/1000 Loss: 0.421278\n",
      "Epoch  700/1000 Loss: 0.375402\n",
      "Epoch  800/1000 Loss: 0.329766\n",
      "Epoch  900/1000 Loss: 0.285073\n",
      "Epoch 1000/1000 Loss: 0.248155\n"
     ]
    }
   ],
   "source": [
    "# 모델 초기화\n",
    "W = torch.zeros((4, 3), requires_grad=True)\n",
    "b = torch.zeros((1, 3), requires_grad=True)\n",
    "# optimizer 설정\n",
    "optimizer = optim.SGD([W, b], lr=0.1)\n",
    "\n",
    "epochs = 1000\n",
    "for epoch in range(epochs + 1):\n",
    "    z = x_train.matmul(W) + b\n",
    "    loss = F.cross_entropy(z, y_train)\n",
    "\n",
    "    optimizer.zero_grad()\n",
    "    loss.backward()\n",
    "    optimizer.step()\n",
    "    \n",
    "    if epoch % 100 == 0:\n",
    "        print(f'Epoch {epoch:4d}/{epochs} Loss: {loss.item():.6f}')"
   ]
  },
  {
   "cell_type": "code",
   "execution_count": 25,
   "id": "d87dd6e4-41b1-46a1-82ab-3a62a0f851ca",
   "metadata": {
    "tags": []
   },
   "outputs": [
    {
     "name": "stdout",
     "output_type": "stream",
     "text": [
      "tensor([[-3.0408,  0.4448,  2.5961],\n",
      "        [-0.3537, -0.1772,  0.5308],\n",
      "        [ 2.3953, -0.4589, -1.9364],\n",
      "        [-0.6828,  1.0930, -0.4102]], requires_grad=True) tensor([[-2.3578, -0.9655,  3.3234]], requires_grad=True)\n"
     ]
    }
   ],
   "source": [
    "print(W, b)"
   ]
  },
  {
   "cell_type": "markdown",
   "id": "462909f5-c68f-44ea-869b-8643501319dc",
   "metadata": {},
   "source": [
    "## 5-11. Implement Softmax Regression with nn.Module"
   ]
  },
  {
   "cell_type": "code",
   "execution_count": 26,
   "id": "cb2a7484-dc30-4fbc-af18-b49ad9b3a422",
   "metadata": {
    "tags": []
   },
   "outputs": [
    {
     "name": "stdout",
     "output_type": "stream",
     "text": [
      "Epoch    0/1000 Loss: 1.616785\n",
      "Epoch  100/1000 Loss: 0.658891\n",
      "Epoch  200/1000 Loss: 0.573443\n",
      "Epoch  300/1000 Loss: 0.518151\n",
      "Epoch  400/1000 Loss: 0.473265\n",
      "Epoch  500/1000 Loss: 0.433516\n",
      "Epoch  600/1000 Loss: 0.396563\n",
      "Epoch  700/1000 Loss: 0.360914\n",
      "Epoch  800/1000 Loss: 0.325392\n",
      "Epoch  900/1000 Loss: 0.289179\n",
      "Epoch 1000/1000 Loss: 0.254148\n"
     ]
    }
   ],
   "source": [
    "# 모델을 선언 및 초기화. 4개의 특성을 가지고 3개의 클래스로 분류. input_dim=4, output_dim=3.\n",
    "model = nn.Linear(4, 3)\n",
    "\n",
    "# optimizer 설정\n",
    "optimizer = optim.SGD(model.parameters(), lr=0.1)\n",
    "\n",
    "epochs = 1000\n",
    "for epoch in range(epochs + 1):\n",
    "    prediction = model(x_train)\n",
    "    loss = F.cross_entropy(prediction, y_train)\n",
    "\n",
    "    optimizer.zero_grad()\n",
    "    loss.backward()\n",
    "    optimizer.step()\n",
    "    \n",
    "    if epoch % 100 == 0:\n",
    "        print(f'Epoch {epoch:4d}/{epochs} Loss: {loss.item():.6f}')"
   ]
  },
  {
   "cell_type": "code",
   "execution_count": 27,
   "id": "725393c9-8bf3-4125-8edb-2ab7d6cfba54",
   "metadata": {
    "tags": []
   },
   "outputs": [
    {
     "data": {
      "text/plain": [
       "[Parameter containing:\n",
       " tensor([[-3.1120, -0.3276,  2.3522, -0.4711],\n",
       "         [ 0.4027, -0.1933, -0.4841,  1.2384],\n",
       "         [ 2.5657,  0.5388, -1.9292, -0.2536]], requires_grad=True),\n",
       " Parameter containing:\n",
       " tensor([-2.2920, -1.0112,  3.2545], requires_grad=True)]"
      ]
     },
     "execution_count": 27,
     "metadata": {},
     "output_type": "execute_result"
    }
   ],
   "source": [
    "list(model.parameters())"
   ]
  },
  {
   "cell_type": "code",
   "execution_count": 28,
   "id": "dfa50531-a0f0-4a63-a03d-6fac4c952203",
   "metadata": {
    "tags": []
   },
   "outputs": [
    {
     "data": {
      "text/plain": [
       "tensor([[-4.1780, -0.2408,  4.7150],\n",
       "        [-2.7291,  0.6254,  2.6299],\n",
       "        [-6.7833,  3.5049,  4.6885],\n",
       "        [-5.6620,  4.1778,  3.1422],\n",
       "        [ 1.7085,  1.8100, -1.3221],\n",
       "        [ 2.8753,  4.0149, -4.2698],\n",
       "        [ 3.9172,  2.7576, -4.0437],\n",
       "        [ 5.4707,  3.3186, -5.6877]], grad_fn=<AddmmBackward0>)"
      ]
     },
     "execution_count": 28,
     "metadata": {},
     "output_type": "execute_result"
    }
   ],
   "source": [
    "temp = model(x_train)\n",
    "temp"
   ]
  },
  {
   "cell_type": "code",
   "execution_count": 29,
   "id": "82a034c6-3c8a-4ec0-9cb1-7def4e0ef224",
   "metadata": {
    "tags": []
   },
   "outputs": [
    {
     "data": {
      "text/plain": [
       "tensor([[1.3636e-04, 6.9921e-03, 9.9287e-01],\n",
       "        [4.1296e-03, 1.1824e-01, 8.7763e-01],\n",
       "        [7.9773e-06, 2.3441e-01, 7.6558e-01],\n",
       "        [3.9326e-05, 7.3798e-01, 2.6198e-01],\n",
       "        [4.6403e-01, 5.1357e-01, 2.2407e-02],\n",
       "        [2.4235e-01, 7.5746e-01, 1.9116e-04],\n",
       "        [7.6106e-01, 2.3867e-01, 2.6549e-04],\n",
       "        [8.9586e-01, 1.0413e-01, 1.2771e-05]], grad_fn=<SoftmaxBackward0>)"
      ]
     },
     "execution_count": 29,
     "metadata": {},
     "output_type": "execute_result"
    }
   ],
   "source": [
    "F.softmax(temp, dim=1)"
   ]
  },
  {
   "cell_type": "markdown",
   "id": "7f83ff3f-3448-4343-9402-ff9c0fe49d30",
   "metadata": {},
   "source": [
    "## 5-12. Implement Softmax Regression with Class"
   ]
  },
  {
   "cell_type": "code",
   "execution_count": 30,
   "id": "2b03a809-215f-4a2f-8ac5-55d4c41509b8",
   "metadata": {
    "tags": []
   },
   "outputs": [],
   "source": [
    "class SoftmaxClassifierModel(nn.Module):\n",
    "    def __init__(self):\n",
    "        super().__init__()\n",
    "        self.linear = nn.Linear(4, 3)\n",
    "        \n",
    "    def forward(self, x):\n",
    "        return self.linear(x)\n",
    "\n",
    "model = SoftmaxClassifierModel()"
   ]
  },
  {
   "cell_type": "markdown",
   "id": "ee6e08e3-ef26-46bc-8fa8-0aacf2d9a2f3",
   "metadata": {},
   "source": [
    "## 5-13. MNIST data Classification with Softmax Regression"
   ]
  },
  {
   "cell_type": "markdown",
   "id": "09cf34a8-7647-400c-85d3-172f630a06ba",
   "metadata": {},
   "source": [
    "### MNIST 데이터"
   ]
  },
  {
   "attachments": {
    "e79d7c49-24bb-4956-8b06-05bbb3d984c6.png": {
     "image/png": "[encoded data removed]"
    }
   },
   "cell_type": "markdown",
   "id": "77d672cb-1bb9-4d42-9954-7f4a0d8df556",
   "metadata": {},
   "source": [
    "> MNIST는 숫자 0부터 9까지의 이미지로 구성된 손글씨 데이터셋이다.  \n",
    "과거 우체국에서 편지의 우편번호를 인식하기 위해 만들어진 훈련 데이터다.  \n",
    "총 60,000개의 훈련 데이터와 레이블, 총 10,000개의 테스트 데이터와 레이블로 구성되어져 있다.\n",
    "\n",
    "> MNIST 문제는 손글씨로 적힌 숫자 이미지가 입력으로 들어오면,  \n",
    "그 이미지가 무슨 숫자인지 맞추는 문제다.\n",
    "\n",
    "> 각각의 이미지는 28×28 크기의 픽셀 단위 이미지다.  \n",
    "\n",
    "![mnist_SVbcYYG.png](attachment:e79d7c49-24bb-4956-8b06-05bbb3d984c6.png)\n",
    "\n",
    "> 이 문제를 풀기 위해 28 × 28 = 784 이므로,  \n",
    "각 이미지를 총 784개의 원소를 가진 벡터로 만들어 사용한다."
   ]
  },
  {
   "cell_type": "markdown",
   "id": "142d1cfe-b335-46d6-98e7-ebcb04828b7f",
   "metadata": {},
   "source": [
    "### 사전 설정"
   ]
  },
  {
   "cell_type": "code",
   "execution_count": 31,
   "id": "20280b5f-3f66-4771-a7a0-dd9d226b2e71",
   "metadata": {
    "tags": []
   },
   "outputs": [],
   "source": [
    "import torch\n",
    "import torchvision.datasets as dsets\n",
    "import torchvision.transforms as transforms\n",
    "from torch.utils.data import DataLoader\n",
    "import torch.nn as nn\n",
    "import matplotlib.pyplot as plt\n",
    "import random"
   ]
  },
  {
   "cell_type": "code",
   "execution_count": 32,
   "id": "d0afe3a2-476f-43df-8df4-f9e354a1309f",
   "metadata": {
    "tags": []
   },
   "outputs": [
    {
     "name": "stdout",
     "output_type": "stream",
     "text": [
      "다음 기기로 학습합니다: cuda\n"
     ]
    }
   ],
   "source": [
    "USE_CUDA = torch.cuda.is_available()\n",
    "device = torch.device('cuda' if USE_CUDA else 'cpu')\n",
    "print('다음 기기로 학습합니다:', device)"
   ]
  },
  {
   "cell_type": "code",
   "execution_count": 33,
   "id": "5fc2b206-2a98-4dea-8236-d39d9337d368",
   "metadata": {
    "tags": []
   },
   "outputs": [],
   "source": [
    "random.seed(777)\n",
    "torch.manual_seed(777)\n",
    "if device == 'cuda':\n",
    "    torch.cuda.manual_seed_all(777)"
   ]
  },
  {
   "cell_type": "code",
   "execution_count": 34,
   "id": "b28d1499-84ac-4ddf-a397-433970f75bb6",
   "metadata": {
    "tags": []
   },
   "outputs": [],
   "source": [
    "epochs = 20\n",
    "batch_size = 100"
   ]
  },
  {
   "cell_type": "markdown",
   "id": "ef08d429-b347-456a-87d3-c91d6d86de32",
   "metadata": {},
   "source": [
    "### 데이터 불러오기"
   ]
  },
  {
   "cell_type": "code",
   "execution_count": 35,
   "id": "5f847537-5a45-428c-9912-0eedb8ffc718",
   "metadata": {
    "tags": []
   },
   "outputs": [],
   "source": [
    "mnist_train = dsets.MNIST(\n",
    "    root='MNIST_data/',\n",
    "    train=True,\n",
    "    transform=transforms.ToTensor(),\n",
    "    download=True\n",
    ")\n",
    "mnist_test = dsets.MNIST(\n",
    "    root='MNIST_data/',\n",
    "    train=False,\n",
    "    transform=transforms.ToTensor(),\n",
    "    download=True\n",
    ")"
   ]
  },
  {
   "cell_type": "code",
   "execution_count": 36,
   "id": "a053463b-e547-49c4-94a9-4e3631a049bf",
   "metadata": {
    "tags": []
   },
   "outputs": [],
   "source": [
    "data_loader = DataLoader(\n",
    "    dataset=mnist_train,\n",
    "    batch_size=batch_size,\n",
    "    shuffle=True,\n",
    "    drop_last=True # 마지막 배치는 버릴것인지\n",
    ")"
   ]
  },
  {
   "cell_type": "markdown",
   "id": "e0185562-f4d0-4308-9e75-ffc20cb91c6c",
   "metadata": {},
   "source": [
    "### 모델 설계"
   ]
  },
  {
   "cell_type": "code",
   "execution_count": 37,
   "id": "8a379e1c-4fb4-429b-8afd-ee6feb2196c3",
   "metadata": {
    "tags": []
   },
   "outputs": [],
   "source": [
    "linear = nn.Linear(784, 10, bias=True).to(device)"
   ]
  },
  {
   "cell_type": "code",
   "execution_count": 38,
   "id": "cdd76132-7040-4f9c-9e13-1ec737a0f34a",
   "metadata": {
    "tags": []
   },
   "outputs": [],
   "source": [
    "loss_fn = nn.CrossEntropyLoss().to(device)\n",
    "optimizer = torch.optim.SGD(linear.parameters(), lr=0.1)"
   ]
  },
  {
   "cell_type": "markdown",
   "id": "f06041b1-3904-46f3-961c-8f98b8c874de",
   "metadata": {},
   "source": [
    "### 학습"
   ]
  },
  {
   "cell_type": "code",
   "execution_count": 39,
   "id": "2a8ad673-3ef8-4cf7-ae14-e60ad4c32e33",
   "metadata": {
    "tags": []
   },
   "outputs": [
    {
     "name": "stdout",
     "output_type": "stream",
     "text": [
      "Epoch: 0001 Loss: 0.535150588\n",
      "Epoch: 0002 Loss: 0.359577715\n",
      "Epoch: 0003 Loss: 0.331264287\n",
      "Epoch: 0004 Loss: 0.316404700\n",
      "Epoch: 0005 Loss: 0.307106942\n",
      "Epoch: 0006 Loss: 0.300456554\n",
      "Epoch: 0007 Loss: 0.294933408\n",
      "Epoch: 0008 Loss: 0.290956199\n",
      "Epoch: 0009 Loss: 0.287074089\n",
      "Epoch: 0010 Loss: 0.284515619\n",
      "Epoch: 0011 Loss: 0.281914055\n",
      "Epoch: 0012 Loss: 0.279526889\n",
      "Epoch: 0013 Loss: 0.277636617\n",
      "Epoch: 0014 Loss: 0.275874794\n",
      "Epoch: 0015 Loss: 0.274422765\n",
      "Epoch: 0016 Loss: 0.272883624\n",
      "Epoch: 0017 Loss: 0.271629632\n",
      "Epoch: 0018 Loss: 0.270609796\n",
      "Epoch: 0019 Loss: 0.269295007\n",
      "Epoch: 0020 Loss: 0.268277347\n",
      "Epoch: 0021 Loss: 0.267255515\n",
      "Epoch: 0022 Loss: 0.266613454\n",
      "Epoch: 0023 Loss: 0.265661478\n",
      "Epoch: 0024 Loss: 0.264922321\n",
      "Epoch: 0025 Loss: 0.263888717\n",
      "Epoch: 0026 Loss: 0.263269812\n",
      "Epoch: 0027 Loss: 0.262586176\n",
      "Epoch: 0028 Loss: 0.261751652\n",
      "Epoch: 0029 Loss: 0.261135817\n",
      "Epoch: 0030 Loss: 0.260536909\n",
      "Epoch: 0031 Loss: 0.260275453\n",
      "Epoch: 0032 Loss: 0.259709179\n",
      "Epoch: 0033 Loss: 0.258947164\n",
      "Epoch: 0034 Loss: 0.258617997\n",
      "Epoch: 0035 Loss: 0.258048743\n",
      "Epoch: 0036 Loss: 0.257542878\n",
      "Epoch: 0037 Loss: 0.257166386\n",
      "Epoch: 0038 Loss: 0.256698668\n",
      "Epoch: 0039 Loss: 0.256314307\n",
      "Epoch: 0040 Loss: 0.255765826\n",
      "Epoch: 0041 Loss: 0.255531251\n",
      "Epoch: 0042 Loss: 0.254914343\n",
      "Epoch: 0043 Loss: 0.254686505\n",
      "Epoch: 0044 Loss: 0.254367471\n",
      "Epoch: 0045 Loss: 0.254017055\n",
      "Epoch: 0046 Loss: 0.253749520\n",
      "Epoch: 0047 Loss: 0.253456146\n",
      "Epoch: 0048 Loss: 0.252950668\n",
      "Epoch: 0049 Loss: 0.252729028\n",
      "Epoch: 0050 Loss: 0.252436101\n",
      "Epoch: 0051 Loss: 0.252046287\n",
      "Epoch: 0052 Loss: 0.251570195\n",
      "Epoch: 0053 Loss: 0.251367420\n",
      "Epoch: 0054 Loss: 0.251246393\n",
      "Epoch: 0055 Loss: 0.251039475\n",
      "Epoch: 0056 Loss: 0.250813097\n",
      "Epoch: 0057 Loss: 0.250423998\n",
      "Epoch: 0058 Loss: 0.250028580\n",
      "Epoch: 0059 Loss: 0.250024110\n",
      "Epoch: 0060 Loss: 0.249758005\n",
      "Epoch: 0061 Loss: 0.249497846\n",
      "Epoch: 0062 Loss: 0.249265149\n",
      "Epoch: 0063 Loss: 0.248886332\n",
      "Epoch: 0064 Loss: 0.248696938\n",
      "Epoch: 0065 Loss: 0.248614609\n",
      "Epoch: 0066 Loss: 0.248439044\n",
      "Epoch: 0067 Loss: 0.248139054\n",
      "Epoch: 0068 Loss: 0.247835398\n",
      "Epoch: 0069 Loss: 0.247658968\n",
      "Epoch: 0070 Loss: 0.247397602\n",
      "Epoch: 0071 Loss: 0.247249588\n",
      "Epoch: 0072 Loss: 0.247079387\n",
      "Epoch: 0073 Loss: 0.246945277\n",
      "Epoch: 0074 Loss: 0.246686921\n",
      "Epoch: 0075 Loss: 0.246687874\n",
      "Epoch: 0076 Loss: 0.246303067\n",
      "Epoch: 0077 Loss: 0.246110275\n",
      "Epoch: 0078 Loss: 0.246067837\n",
      "Epoch: 0079 Loss: 0.245769829\n",
      "Epoch: 0080 Loss: 0.245565936\n",
      "Epoch: 0081 Loss: 0.245506629\n",
      "Epoch: 0082 Loss: 0.245446190\n",
      "Epoch: 0083 Loss: 0.245212138\n",
      "Epoch: 0084 Loss: 0.244949430\n",
      "Epoch: 0085 Loss: 0.244855195\n",
      "Epoch: 0086 Loss: 0.244703397\n",
      "Epoch: 0087 Loss: 0.244637117\n",
      "Epoch: 0088 Loss: 0.244337335\n",
      "Epoch: 0089 Loss: 0.244136706\n",
      "Epoch: 0090 Loss: 0.244086966\n",
      "Epoch: 0091 Loss: 0.243965805\n",
      "Epoch: 0092 Loss: 0.243704543\n",
      "Epoch: 0093 Loss: 0.243614838\n",
      "Epoch: 0094 Loss: 0.243434429\n",
      "Epoch: 0095 Loss: 0.243307009\n",
      "Epoch: 0096 Loss: 0.243146703\n",
      "Epoch: 0097 Loss: 0.243119434\n",
      "Epoch: 0098 Loss: 0.243019551\n",
      "Epoch: 0099 Loss: 0.242854849\n",
      "Epoch: 0100 Loss: 0.242440462\n",
      "Learning Finished\n"
     ]
    }
   ],
   "source": [
    "for epoch in range(epochs):\n",
    "    avg_loss = 0\n",
    "    total_batch = len(data_loader)\n",
    "    \n",
    "    for X, Y in data_loader:\n",
    "        \n",
    "        X = X.view(-1, 28*28).to(device)\n",
    "        \n",
    "        Y = Y.to(device)\n",
    "        \n",
    "        optimizer.zero_grad()\n",
    "        hypothesis = linear(X)\n",
    "        loss = loss_fn(hypothesis, Y)\n",
    "        loss.backward()\n",
    "        optimizer.step()\n",
    "        \n",
    "        avg_loss += loss / total_batch\n",
    "    \n",
    "    print(f'Epoch: {epoch+1:04d} Loss: {avg_loss:.9f}')\n",
    "\n",
    "print('Learning Finished')"
   ]
  },
  {
   "cell_type": "markdown",
   "id": "e3b3c333-3edb-4b57-abe6-bb48deaf19c3",
   "metadata": {},
   "source": [
    "### 테스트"
   ]
  },
  {
   "cell_type": "code",
   "execution_count": 48,
   "id": "6f69b421-02d4-4400-a5be-373e060ac42c",
   "metadata": {
    "tags": []
   },
   "outputs": [
    {
     "name": "stdout",
     "output_type": "stream",
     "text": [
      "Accuracy: 0.8779000043869019\n",
      "Label: 5\n",
      "Prediction: 8\n"
     ]
    },
    {
     "data": {
      "image/png": "[encoded data removed]",
      "text/plain": [
       "<Figure size 640x480 with 1 Axes>"
      ]
     },
     "metadata": {},
     "output_type": "display_data"
    }
   ],
   "source": [
    "with torch.no_grad():\n",
    "    X_test = mnist_test.test_data.view(-1, 28*28).float().to(device)\n",
    "    Y_test = mnist_test.test_labels.to(device)\n",
    "    \n",
    "    prediction = linear(X_test)\n",
    "    correct_prediction = torch.argmax(prediction, 1) == Y_test\n",
    "    accuracy = correct_prediction.float().mean()\n",
    "    print('Accuracy:', accuracy.item())\n",
    "    \n",
    "    # MNIST 테스트 데이터에서 무작위로 하나를 뽑아서 예측해보자.\n",
    "    r = random.randint(0, len(mnist_test)-1)\n",
    "    X_single_data = mnist_test.test_data[r:r+1].view(-1, 28*28).float().to(device)\n",
    "    Y_single_data = mnist_test.test_labels[r:r+1].to(device)\n",
    "    \n",
    "    print('Label:', Y_single_data.item())\n",
    "    single_prediction = linear(X_single_data)\n",
    "    print('Prediction:', torch.argmax(single_prediction, 1).item())\n",
    "    \n",
    "    plt.imshow(mnist_test.test_data[r:r+1].view(28, 28), cmap='Greys', interpolation='nearest')\n",
    "    plt.show()"
   ]
  },
  {
   "cell_type": "code",
   "execution_count": null,
   "id": "dbf30e27-389e-4ad1-8965-fc64dc9d54ff",
   "metadata": {},
   "outputs": [],
   "source": []
  }
 ],
 "metadata": {
  "kernelspec": {
   "display_name": "Python 3",
   "language": "python",
   "name": "python3"
  },
  "language_info": {
   "codemirror_mode": {
    "name": "ipython",
    "version": 3
   },
   "file_extension": ".py",
   "mimetype": "text/x-python",
   "name": "python",
   "nbconvert_exporter": "python",
   "pygments_lexer": "ipython3",
   "version": "3.11.4"
  }
 },
 "nbformat": 4,
 "nbformat_minor": 5
}
