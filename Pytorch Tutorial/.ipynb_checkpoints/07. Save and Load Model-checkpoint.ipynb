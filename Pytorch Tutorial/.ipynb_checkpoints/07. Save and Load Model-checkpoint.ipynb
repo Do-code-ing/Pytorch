{
 "cells": [
  {
   "cell_type": "markdown",
   "id": "409484f4-a260-40de-8262-8bf655ea5bbf",
   "metadata": {},
   "source": [
    "# 7. Save and Load the Model"
   ]
  },
  {
   "cell_type": "code",
   "execution_count": 1,
   "id": "dfcfd88e-4e60-4138-a24c-5f32a31d38b0",
   "metadata": {
    "tags": []
   },
   "outputs": [],
   "source": [
    "import torch\n",
    "import torchvision.models as models"
   ]
  },
  {
   "cell_type": "markdown",
   "id": "83c633d6-4c5b-4d08-b860-7a58d85ec1d4",
   "metadata": {},
   "source": [
    "## Saving and Loading Model Weights"
   ]
  },
  {
   "cell_type": "markdown",
   "id": "53744a00-5ac3-4129-93aa-9a43aa970f5a",
   "metadata": {},
   "source": [
    "> Pytorch model은 학습한 parameter를 `state_dict`라고 불리는 내부 상태 사전(internal state dictionary)에 저장한다.  \n",
    "이 상태 값들은 `torch.save` method를 사용하여 저장(persist)할 수 있다."
   ]
  },
  {
   "cell_type": "code",
   "execution_count": 4,
   "id": "4046c076-6375-4cc5-a40d-16e7ec020be2",
   "metadata": {
    "tags": []
   },
   "outputs": [
    {
     "name": "stderr",
     "output_type": "stream",
     "text": [
      "Downloading: \"https://download.pytorch.org/models/vgg16-397923af.pth\" to C:\\Users\\pc/.cache\\torch\\hub\\checkpoints\\vgg16-397923af.pth\n",
      "100%|███████████████████████████████████████████████████████████████████████████████| 528M/528M [00:13<00:00, 40.1MB/s]\n"
     ]
    }
   ],
   "source": [
    "model = models.vgg16(weights='IMAGENET1K_V1') # 임의의 model과 가중치 정보 받기\n",
    "torch.save(model.state_dict(), 'model_weights.pth') # model에 state_dict 저장"
   ]
  },
  {
   "cell_type": "markdown",
   "id": "d4bc2a43-9389-4425-9b95-c4b53cbd4130",
   "metadata": {
    "tags": []
   },
   "source": [
    "> model의 weight를 불러오기 위해서는,  \n",
    "먼저 동일한 model의 instance를 생성한 다음,  \n",
    "`load_state_dict()` method를 사용하여 parameter들을 불러온다."
   ]
  },
  {
   "cell_type": "code",
   "execution_count": 5,
   "id": "321a1169-a117-406c-bfd5-07e075f1b7a0",
   "metadata": {
    "tags": []
   },
   "outputs": [
    {
     "data": {
      "text/plain": [
       "VGG(\n",
       "  (features): Sequential(\n",
       "    (0): Conv2d(3, 64, kernel_size=(3, 3), stride=(1, 1), padding=(1, 1))\n",
       "    (1): ReLU(inplace=True)\n",
       "    (2): Conv2d(64, 64, kernel_size=(3, 3), stride=(1, 1), padding=(1, 1))\n",
       "    (3): ReLU(inplace=True)\n",
       "    (4): MaxPool2d(kernel_size=2, stride=2, padding=0, dilation=1, ceil_mode=False)\n",
       "    (5): Conv2d(64, 128, kernel_size=(3, 3), stride=(1, 1), padding=(1, 1))\n",
       "    (6): ReLU(inplace=True)\n",
       "    (7): Conv2d(128, 128, kernel_size=(3, 3), stride=(1, 1), padding=(1, 1))\n",
       "    (8): ReLU(inplace=True)\n",
       "    (9): MaxPool2d(kernel_size=2, stride=2, padding=0, dilation=1, ceil_mode=False)\n",
       "    (10): Conv2d(128, 256, kernel_size=(3, 3), stride=(1, 1), padding=(1, 1))\n",
       "    (11): ReLU(inplace=True)\n",
       "    (12): Conv2d(256, 256, kernel_size=(3, 3), stride=(1, 1), padding=(1, 1))\n",
       "    (13): ReLU(inplace=True)\n",
       "    (14): Conv2d(256, 256, kernel_size=(3, 3), stride=(1, 1), padding=(1, 1))\n",
       "    (15): ReLU(inplace=True)\n",
       "    (16): MaxPool2d(kernel_size=2, stride=2, padding=0, dilation=1, ceil_mode=False)\n",
       "    (17): Conv2d(256, 512, kernel_size=(3, 3), stride=(1, 1), padding=(1, 1))\n",
       "    (18): ReLU(inplace=True)\n",
       "    (19): Conv2d(512, 512, kernel_size=(3, 3), stride=(1, 1), padding=(1, 1))\n",
       "    (20): ReLU(inplace=True)\n",
       "    (21): Conv2d(512, 512, kernel_size=(3, 3), stride=(1, 1), padding=(1, 1))\n",
       "    (22): ReLU(inplace=True)\n",
       "    (23): MaxPool2d(kernel_size=2, stride=2, padding=0, dilation=1, ceil_mode=False)\n",
       "    (24): Conv2d(512, 512, kernel_size=(3, 3), stride=(1, 1), padding=(1, 1))\n",
       "    (25): ReLU(inplace=True)\n",
       "    (26): Conv2d(512, 512, kernel_size=(3, 3), stride=(1, 1), padding=(1, 1))\n",
       "    (27): ReLU(inplace=True)\n",
       "    (28): Conv2d(512, 512, kernel_size=(3, 3), stride=(1, 1), padding=(1, 1))\n",
       "    (29): ReLU(inplace=True)\n",
       "    (30): MaxPool2d(kernel_size=2, stride=2, padding=0, dilation=1, ceil_mode=False)\n",
       "  )\n",
       "  (avgpool): AdaptiveAvgPool2d(output_size=(7, 7))\n",
       "  (classifier): Sequential(\n",
       "    (0): Linear(in_features=25088, out_features=4096, bias=True)\n",
       "    (1): ReLU(inplace=True)\n",
       "    (2): Dropout(p=0.5, inplace=False)\n",
       "    (3): Linear(in_features=4096, out_features=4096, bias=True)\n",
       "    (4): ReLU(inplace=True)\n",
       "    (5): Dropout(p=0.5, inplace=False)\n",
       "    (6): Linear(in_features=4096, out_features=1000, bias=True)\n",
       "  )\n",
       ")"
      ]
     },
     "execution_count": 5,
     "metadata": {},
     "output_type": "execute_result"
    }
   ],
   "source": [
    "model = models.vgg16() # 여기서는 'weights'를 지정하지 않았으므로, 학습되지 않은 model을 생성한다.\n",
    "model.load_state_dict(torch.load('model_weights.pth')) # 빈 model에 load\n",
    "model.eval()"
   ]
  },
  {
   "cell_type": "markdown",
   "id": "11d2f72d-b875-4b68-9f43-4eb5953afc07",
   "metadata": {},
   "source": [
    "> 추론(inference)을 하기 전에 `model_eval()` method를 호출하여 dropout과 batch normalization을 평가 모드(evaluation mode)로 설정해야 한다.  \n",
    "그렇지 않으면 일관성 없는 추론 결과가 생성된다."
   ]
  },
  {
   "cell_type": "markdown",
   "id": "38626d54-6606-4026-bc29-5d40d490c1f2",
   "metadata": {},
   "source": [
    "## Saving and Loading Models with Shapes"
   ]
  },
  {
   "cell_type": "markdown",
   "id": "7667fdb4-3956-42e8-893a-3371fd5756a6",
   "metadata": {},
   "source": [
    "> 앞서 model의 weight를 불러올 때 신경망 구조를 정의하기 위해 같은 model의 instance를 생성해야 했다.  \n",
    "이 class의 구조를 model과 함께 저장하고 싶다면 (`model.state_dict()`가 아닌) `model`을 저장 함수에 전달한다."
   ]
  },
  {
   "cell_type": "code",
   "execution_count": 6,
   "id": "9a7702fd-8ec2-4ae7-8b2b-1d5df8887e2b",
   "metadata": {
    "tags": []
   },
   "outputs": [],
   "source": [
    "torch.save(model, 'model.pth') # model 저장"
   ]
  },
  {
   "cell_type": "code",
   "execution_count": 7,
   "id": "bdc0ca49-ea95-42f2-b3a3-6e6b3ebcddaf",
   "metadata": {
    "tags": []
   },
   "outputs": [],
   "source": [
    "model = torch.load('model.pth') # model 불러오기"
   ]
  }
 ],
 "metadata": {
  "kernelspec": {
   "display_name": "Python 3",
   "language": "python",
   "name": "python3"
  },
  "language_info": {
   "codemirror_mode": {
    "name": "ipython",
    "version": 3
   },
   "file_extension": ".py",
   "mimetype": "text/x-python",
   "name": "python",
   "nbconvert_exporter": "python",
   "pygments_lexer": "ipython3",
   "version": "3.11.4"
  }
 },
 "nbformat": 4,
 "nbformat_minor": 5
}
