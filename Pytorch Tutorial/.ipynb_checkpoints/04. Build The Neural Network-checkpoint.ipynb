{
 "cells": [
  {
   "cell_type": "markdown",
   "id": "5a5d513b-0b7e-402b-a2ea-7a5b0bd98c42",
   "metadata": {},
   "source": [
    "# 4. Build The Neural Network"
   ]
  },
  {
   "cell_type": "markdown",
   "id": "9edf59c0-7618-4199-be51-9a71350a9198",
   "metadata": {},
   "source": [
    ">namespace `torch.nn`은 신경망을 구성하는데 필요한 모든 구성 요소를 제공한다.  \n",
    "\n",
    ">Pytorch의 모든 모듈은 `nn.Module`의 subclass다.  \n",
    "신경망은 다른 모듈로 구성된 모듈이다. 이러한 중첩된 구조는 복잡한 아키텍처를 쉽게 구축하고 관리할 수 있다."
   ]
  },
  {
   "cell_type": "code",
   "execution_count": 1,
   "id": "697d498d-2e7a-4df7-ad85-4211b9936915",
   "metadata": {
    "tags": []
   },
   "outputs": [],
   "source": [
    "import os\n",
    "import torch\n",
    "from torch import nn\n",
    "from torch.utils.data import DataLoader\n",
    "from torchvision import datasets, transforms"
   ]
  },
  {
   "cell_type": "markdown",
   "id": "89312bf0-ca1a-4c7d-8a68-813de44531ad",
   "metadata": {},
   "source": [
    "## Get Device for Training"
   ]
  },
  {
   "cell_type": "markdown",
   "id": "b7729de4-bbed-4299-b350-03aacb16282b",
   "metadata": {},
   "source": [
    "> 가능한 경우 GPU 또는 MPS와 같은 H/W 가속기에서 모델을 학습한다.  \n",
    "`torch.cuda` 또는 `torch.backends.mps`가 사용 가능한지 확인해보고,  \n",
    "그렇지 않다면 CPU를 계속 사용한다."
   ]
  },
  {
   "cell_type": "code",
   "execution_count": 2,
   "id": "d43a1425-82e6-488e-9f61-2f6aa95db6ad",
   "metadata": {
    "tags": []
   },
   "outputs": [
    {
     "name": "stdout",
     "output_type": "stream",
     "text": [
      "Using cuda device\n"
     ]
    }
   ],
   "source": [
    "device = (\n",
    "    'cuda'\n",
    "    if torch.cuda.is_available()\n",
    "    else 'mps'\n",
    "    if torch.backends.mps.is_available()\n",
    "    else 'cpu'\n",
    ")\n",
    "print(f'Using {device} device')"
   ]
  },
  {
   "cell_type": "markdown",
   "id": "9993be43-06d6-4ae9-8138-984f355dee92",
   "metadata": {},
   "source": [
    "# Define the Class"
   ]
  },
  {
   "cell_type": "markdown",
   "id": "81c50e3c-7820-48cc-8820-98883df43075",
   "metadata": {},
   "source": [
    "> 신경망 model을 `nn.Module`의 하위클래스로 정의하고,  \n",
    "`__init__`에서 신경망 layer들을 초기화한다.  \n",
    "`nn.Module`을 상속받은 모든 클래스는 `foward` method에 input data에 대한 연산들을 구현한다."
   ]
  },
  {
   "cell_type": "code",
   "execution_count": 3,
   "id": "d2bd086c-e13b-4067-9c44-de41063db324",
   "metadata": {
    "tags": []
   },
   "outputs": [],
   "source": [
    "class NeuralNetwork(nn.Module):\n",
    "    def __init__(self):\n",
    "        super().__init__()\n",
    "        self.flatten = nn.Flatten()\n",
    "        self.linear_relu_stack = nn.Sequential(\n",
    "            nn.Linear(28*28, 512),\n",
    "            nn.ReLU(),\n",
    "            nn.Linear(512, 512),\n",
    "            nn.ReLU(),\n",
    "            nn.Linear(512, 10),\n",
    "        )\n",
    "        \n",
    "    def forward(self, x):\n",
    "        x = self.flatten(x)\n",
    "        logits = self.linear_relu_stack(x)\n",
    "        return logits"
   ]
  },
  {
   "cell_type": "code",
   "execution_count": 4,
   "id": "081db916-7200-4b72-a7e8-49439b5d4d53",
   "metadata": {
    "tags": []
   },
   "outputs": [
    {
     "name": "stdout",
     "output_type": "stream",
     "text": [
      "NeuralNetwork(\n",
      "  (flatten): Flatten(start_dim=1, end_dim=-1)\n",
      "  (linear_relu_stack): Sequential(\n",
      "    (0): Linear(in_features=784, out_features=512, bias=True)\n",
      "    (1): ReLU()\n",
      "    (2): Linear(in_features=512, out_features=512, bias=True)\n",
      "    (3): ReLU()\n",
      "    (4): Linear(in_features=512, out_features=10, bias=True)\n",
      "  )\n",
      ")\n"
     ]
    }
   ],
   "source": [
    "# NeuralNetwork의 instance를 생성하고, 이를 deivce(cuda)로 이동한다.\n",
    "model = NeuralNetwork().to(device)\n",
    "print(model)"
   ]
  },
  {
   "cell_type": "markdown",
   "id": "74d10375-8317-4d11-a524-bc9ecf739023",
   "metadata": {},
   "source": [
    ">모델을 사용하기 위해 input data를 전달한다.  \n",
    "그러면 일부 백그라운드 연산들과 함께 model의 `forward`를 실행한다.  \n",
    "**`model.forward()`를 직접 호출하지 말 것.**\n"
   ]
  },
  {
   "cell_type": "code",
   "execution_count": 5,
   "id": "e111acca-248c-4f7d-b703-cb146ee8bbdf",
   "metadata": {
    "tags": []
   },
   "outputs": [
    {
     "name": "stdout",
     "output_type": "stream",
     "text": [
      "Predicted class: tensor([2], device='cuda:0')\n"
     ]
    }
   ],
   "source": [
    "X = torch.rand(1, 28, 28, device=device)\n",
    "logits = model(X)\n",
    "pred_proba = nn.Softmax(dim=1)(logits)\n",
    "y_pred = pred_proba.argmax(1)\n",
    "print(f'Predicted class: {y_pred}')"
   ]
  },
  {
   "cell_type": "markdown",
   "id": "d56017f9-73e8-4d93-a488-77b9e14c4df5",
   "metadata": {},
   "source": [
    "읽어도 이해가 안되네.."
   ]
  },
  {
   "cell_type": "markdown",
   "id": "5496d8c4-4106-482d-b346-a9f32453c65e",
   "metadata": {},
   "source": [
    "## Model Layers"
   ]
  },
  {
   "cell_type": "markdown",
   "id": "2248973d-bf67-44ac-bbc5-d0eb0fd076a0",
   "metadata": {},
   "source": [
    "> FashionMNIST model의 layer들을 보기전에,  \n",
    "28×28 크기의 image 3개로 구성된 mini-batch로 신경망을 통과할 때 어떤일이 발생하는지 확인해보자"
   ]
  },
  {
   "cell_type": "code",
   "execution_count": 6,
   "id": "6ea5fd27-3cf3-486c-99f1-b36b9e100fdf",
   "metadata": {
    "tags": []
   },
   "outputs": [
    {
     "name": "stdout",
     "output_type": "stream",
     "text": [
      "torch.Size([3, 28, 28])\n"
     ]
    }
   ],
   "source": [
    "input_image = torch.rand(3, 28, 28)\n",
    "print(input_image.size())"
   ]
  },
  {
   "cell_type": "markdown",
   "id": "5d36d907-5cd2-4bf8-9637-afefc83ad59a",
   "metadata": {},
   "source": [
    "## nn.Flatten Layer"
   ]
  },
  {
   "cell_type": "markdown",
   "id": "b79d7585-fde2-40a8-8e6b-628a557ab560",
   "metadata": {},
   "source": [
    "> `nn.Flatten` layer를 초기화하여 각 28×28의 2D image를 784 pixel 값을 갖는 연속된 배열로 반환한다.  \n",
    "(dim=0의 mini-batch 차원은 유지된다.)"
   ]
  },
  {
   "cell_type": "code",
   "execution_count": 7,
   "id": "d3e1e265-29a5-49e2-8566-7c8e676757ef",
   "metadata": {
    "tags": []
   },
   "outputs": [
    {
     "name": "stdout",
     "output_type": "stream",
     "text": [
      "torch.Size([3, 784])\n"
     ]
    }
   ],
   "source": [
    "flatten = nn.Flatten()\n",
    "flat_image = flatten(input_image)\n",
    "print(flat_image.size())"
   ]
  },
  {
   "cell_type": "markdown",
   "id": "3417a2e8-88a3-478e-b18c-244f19553644",
   "metadata": {},
   "source": [
    "## nn.Linear Layer"
   ]
  },
  {
   "cell_type": "markdown",
   "id": "53b8ba6e-3005-4ec1-8ad8-7d80d9c1999a",
   "metadata": {},
   "source": [
    "> `nn.Linear` layer는 저장된 weight와 bias를 사용하여,  \n",
    "input에 linear tranformation을 적용하는 모듈이다."
   ]
  },
  {
   "cell_type": "code",
   "execution_count": 8,
   "id": "090dcf0a-3c9e-4f9a-9192-6f87190db761",
   "metadata": {
    "tags": []
   },
   "outputs": [
    {
     "name": "stdout",
     "output_type": "stream",
     "text": [
      "torch.Size([3, 20])\n"
     ]
    }
   ],
   "source": [
    "layer1 = nn.Linear(in_features=28*28, out_features=20)\n",
    "hidden1 = layer1(flat_image)\n",
    "print(hidden1.size())"
   ]
  },
  {
   "cell_type": "markdown",
   "id": "c8574fe3-e59b-4df0-845b-f104f408474c",
   "metadata": {},
   "source": [
    "## nn.ReLU"
   ]
  },
  {
   "cell_type": "markdown",
   "id": "8341133b-a4a0-4dd8-9055-835558c16574",
   "metadata": {},
   "source": [
    "> non-linear activation은 모델의 input과 ouput 사이에 복잡한 mapping을 만든다.  \n",
    "non-linear activation은 linear transformation 후에 적용되어 nonlinearity를 도입하고,  \n",
    "신경망이 다양한 현상을 학습할 수 있도록 돕는다.\n",
    "\n",
    "> 이 model에서는 `nn.ReLU`를 linear layer들 사이에 사용하지만,  \n",
    "model을 만들 때는 nonlinearity를 가진 다른 activation을 도입할 수 있다."
   ]
  },
  {
   "cell_type": "code",
   "execution_count": 9,
   "id": "76f842f5-9c0c-4f0b-a738-da241eacfbd0",
   "metadata": {
    "tags": []
   },
   "outputs": [
    {
     "name": "stdout",
     "output_type": "stream",
     "text": [
      "Before ReLU: tensor([[-0.2161, -0.2132, -0.5054,  0.2073, -0.7899,  0.2187, -0.2154, -0.6281,\n",
      "         -0.2730, -0.2128,  0.0257, -0.3749,  0.1887, -0.2346, -0.0289, -0.2477,\n",
      "         -0.2167,  0.3208, -0.4269, -0.0596],\n",
      "        [-0.1051,  0.1686, -0.7598,  0.1764, -0.5447,  0.0141, -0.3496, -0.3952,\n",
      "         -0.2813, -0.1823,  0.1750, -0.3278,  0.0360, -0.2043, -0.0467, -0.1697,\n",
      "         -0.2272,  0.4072, -0.2879, -0.0522],\n",
      "        [-0.0495, -0.2426, -0.6788,  0.6263, -0.7102,  0.1442, -0.2400, -0.3608,\n",
      "         -0.3264, -0.1662, -0.0055, -0.1043,  0.1736, -0.5422,  0.0413,  0.0541,\n",
      "         -0.2488, -0.1375, -0.1537,  0.0386]], grad_fn=<AddmmBackward0>)\n",
      "\n",
      "\n",
      "After ReLU: tensor([[0.0000, 0.0000, 0.0000, 0.2073, 0.0000, 0.2187, 0.0000, 0.0000, 0.0000,\n",
      "         0.0000, 0.0257, 0.0000, 0.1887, 0.0000, 0.0000, 0.0000, 0.0000, 0.3208,\n",
      "         0.0000, 0.0000],\n",
      "        [0.0000, 0.1686, 0.0000, 0.1764, 0.0000, 0.0141, 0.0000, 0.0000, 0.0000,\n",
      "         0.0000, 0.1750, 0.0000, 0.0360, 0.0000, 0.0000, 0.0000, 0.0000, 0.4072,\n",
      "         0.0000, 0.0000],\n",
      "        [0.0000, 0.0000, 0.0000, 0.6263, 0.0000, 0.1442, 0.0000, 0.0000, 0.0000,\n",
      "         0.0000, 0.0000, 0.0000, 0.1736, 0.0000, 0.0413, 0.0541, 0.0000, 0.0000,\n",
      "         0.0000, 0.0386]], grad_fn=<ReluBackward0>)\n"
     ]
    }
   ],
   "source": [
    "print(f'Before ReLU: {hidden1}\\n\\n')\n",
    "hidden1 = nn.ReLU()(hidden1)\n",
    "print(f'After ReLU: {hidden1}')"
   ]
  },
  {
   "cell_type": "markdown",
   "id": "f1de474b-8e86-41a4-b84f-3c5a0b07da93",
   "metadata": {},
   "source": [
    "## nn.Sequential"
   ]
  },
  {
   "cell_type": "markdown",
   "id": "d301796a-9e29-4ccd-ab86-b11d8e796889",
   "metadata": {},
   "source": [
    "> `nn.Sequential`은 순서를 갖는 모듈의 컨테이너다.  \n",
    "data는 정의된 것과 같은 순서로 모든 모듈들을 통해 전달된다.  \n",
    "순차 컨테이너를 사용하여 아래의 `seq_modules`와 같은 신경망을 빠르게 만들 수 있다."
   ]
  },
  {
   "cell_type": "code",
   "execution_count": 10,
   "id": "2c44dd45-8def-49f9-8b04-ffc8e746af7a",
   "metadata": {
    "tags": []
   },
   "outputs": [],
   "source": [
    "seq_modules = nn.Sequential(\n",
    "    flatten,\n",
    "    layer1,\n",
    "    nn.ReLU(),\n",
    "    nn.Linear(20, 10)\n",
    ")\n",
    "input_image = torch.rand(3, 28, 28)\n",
    "logits = seq_modules(input_image)"
   ]
  },
  {
   "cell_type": "markdown",
   "id": "ec732dfe-5952-40fb-bb9f-f7ce2137de6b",
   "metadata": {},
   "source": [
    "## nn.Softmax"
   ]
  },
  {
   "cell_type": "markdown",
   "id": "8787183a-f436-47a5-a938-340c13d3e1e6",
   "metadata": {},
   "source": [
    "> 신경망의 마지막 linear layer는 `nn.Softmax` 모듈에 전달될 ([-infty, infty] 범위의 원시 값인) logits를 반환한다.  \n",
    "logits는 모델의 각 분류(class)에 대한 예측 확률을 나타내도록 [0, 1] 범위로 비례하여 조정(scale)된다.  \n",
    "`dim` parameter는 값의 합이 1이 되는 차원을 나타낸다."
   ]
  },
  {
   "cell_type": "code",
   "execution_count": 11,
   "id": "acffb26b-b5b7-4e19-b82e-7f31b9090880",
   "metadata": {
    "tags": []
   },
   "outputs": [],
   "source": [
    "softmax = nn.Softmax(dim=1)\n",
    "pred_proba = softmax(logits)"
   ]
  },
  {
   "cell_type": "markdown",
   "id": "771954d0-3c64-4086-a988-5a9db9caad08",
   "metadata": {},
   "source": [
    "## Model Parameters"
   ]
  },
  {
   "cell_type": "markdown",
   "id": "729081ec-7586-4c0e-baa1-566f0d03f71d",
   "metadata": {},
   "source": [
    "> 신경망 내부의 많은 layer들은 parameterize된다.  \n",
    "즉, 학습 중에 최적화되는 weight와 bias와 연관지어진다.  \n",
    "`nn.Module`을 상속하면 model 객체 내부의 모든 필드들이 자동으로 추적(track)되며,  \n",
    "모델의 `parameters()` 및 `named_parameters()` method로 모든 parameter에 접근할 수 있게된다."
   ]
  },
  {
   "cell_type": "code",
   "execution_count": 14,
   "id": "b715d95c-8d1a-4865-a0a2-d6b3ec09b9b7",
   "metadata": {
    "tags": []
   },
   "outputs": [
    {
     "name": "stdout",
     "output_type": "stream",
     "text": [
      "Model structure: NeuralNetwork(\n",
      "  (flatten): Flatten(start_dim=1, end_dim=-1)\n",
      "  (linear_relu_stack): Sequential(\n",
      "    (0): Linear(in_features=784, out_features=512, bias=True)\n",
      "    (1): ReLU()\n",
      "    (2): Linear(in_features=512, out_features=512, bias=True)\n",
      "    (3): ReLU()\n",
      "    (4): Linear(in_features=512, out_features=10, bias=True)\n",
      "  )\n",
      ")\n",
      "\n",
      "\n"
     ]
    },
    {
     "ename": "AttributeError",
     "evalue": "'NeuralNetwork' object has no attribute 'name_parameters'",
     "output_type": "error",
     "traceback": [
      "\u001b[1;31m---------------------------------------------------------------------------\u001b[0m",
      "\u001b[1;31mAttributeError\u001b[0m                            Traceback (most recent call last)",
      "Cell \u001b[1;32mIn[14], line 3\u001b[0m\n\u001b[0;32m      1\u001b[0m \u001b[38;5;28mprint\u001b[39m(\u001b[38;5;124mf\u001b[39m\u001b[38;5;124m'\u001b[39m\u001b[38;5;124mModel structure: \u001b[39m\u001b[38;5;132;01m{\u001b[39;00mmodel\u001b[38;5;132;01m}\u001b[39;00m\u001b[38;5;130;01m\\n\u001b[39;00m\u001b[38;5;130;01m\\n\u001b[39;00m\u001b[38;5;124m'\u001b[39m)\n\u001b[1;32m----> 3\u001b[0m \u001b[38;5;28;01mfor\u001b[39;00m name, param \u001b[38;5;129;01min\u001b[39;00m model\u001b[38;5;241m.\u001b[39mname_parameters():\n\u001b[0;32m      4\u001b[0m     \u001b[38;5;28mprint\u001b[39m(\u001b[38;5;124mf\u001b[39m\u001b[38;5;124m'\u001b[39m\u001b[38;5;124mLayer: \u001b[39m\u001b[38;5;132;01m{\u001b[39;00mname\u001b[38;5;132;01m}\u001b[39;00m\u001b[38;5;124m | Size: param.size() | Values: \u001b[39m\u001b[38;5;132;01m{\u001b[39;00mparam[:\u001b[38;5;241m2\u001b[39m]\u001b[38;5;132;01m}\u001b[39;00m\u001b[38;5;130;01m\\n\u001b[39;00m\u001b[38;5;124m'\u001b[39m)\n",
      "File \u001b[1;32m~\\anaconda3\\Lib\\site-packages\\torch\\nn\\modules\\module.py:1614\u001b[0m, in \u001b[0;36mModule.__getattr__\u001b[1;34m(self, name)\u001b[0m\n\u001b[0;32m   1612\u001b[0m     \u001b[38;5;28;01mif\u001b[39;00m name \u001b[38;5;129;01min\u001b[39;00m modules:\n\u001b[0;32m   1613\u001b[0m         \u001b[38;5;28;01mreturn\u001b[39;00m modules[name]\n\u001b[1;32m-> 1614\u001b[0m \u001b[38;5;28;01mraise\u001b[39;00m \u001b[38;5;167;01mAttributeError\u001b[39;00m(\u001b[38;5;124m\"\u001b[39m\u001b[38;5;124m'\u001b[39m\u001b[38;5;132;01m{}\u001b[39;00m\u001b[38;5;124m'\u001b[39m\u001b[38;5;124m object has no attribute \u001b[39m\u001b[38;5;124m'\u001b[39m\u001b[38;5;132;01m{}\u001b[39;00m\u001b[38;5;124m'\u001b[39m\u001b[38;5;124m\"\u001b[39m\u001b[38;5;241m.\u001b[39mformat(\n\u001b[0;32m   1615\u001b[0m     \u001b[38;5;28mtype\u001b[39m(\u001b[38;5;28mself\u001b[39m)\u001b[38;5;241m.\u001b[39m\u001b[38;5;18m__name__\u001b[39m, name))\n",
      "\u001b[1;31mAttributeError\u001b[0m: 'NeuralNetwork' object has no attribute 'name_parameters'"
     ]
    }
   ],
   "source": [
    "print(f'Model structure: {model}\\n\\n')\n",
    "\n",
    "for name, param in model.named_parameters():\n",
    "    print(f'Layer: {name} | Size: param.size() | Values: {param[:2]}\\n')"
   ]
  },
  {
   "cell_type": "code",
   "execution_count": null,
   "id": "2285a9fe-96d2-4fb4-8702-3efc9270e274",
   "metadata": {},
   "outputs": [],
   "source": []
  }
 ],
 "metadata": {
  "kernelspec": {
   "display_name": "Python 3",
   "language": "python",
   "name": "python3"
  },
  "language_info": {
   "codemirror_mode": {
    "name": "ipython",
    "version": 3
   },
   "file_extension": ".py",
   "mimetype": "text/x-python",
   "name": "python",
   "nbconvert_exporter": "python",
   "pygments_lexer": "ipython3",
   "version": "3.11.4"
  }
 },
 "nbformat": 4,
 "nbformat_minor": 5
}
