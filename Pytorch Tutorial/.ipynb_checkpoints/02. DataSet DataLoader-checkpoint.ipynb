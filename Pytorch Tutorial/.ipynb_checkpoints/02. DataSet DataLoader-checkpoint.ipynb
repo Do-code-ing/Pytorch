{
 "cells": [
  {
   "cell_type": "markdown",
   "id": "6e0a2402-0210-4335-a704-ce71d9fdc973",
   "metadata": {},
   "source": [
    "# 2. Dataset & DataLoader"
   ]
  },
  {
   "cell_type": "markdown",
   "id": "fac03f26-6372-4063-8214-478d7e591201",
   "metadata": {},
   "source": [
    ">`Dataset`은 sample과 label을 저장하고,  \n",
    "`DataLoader`는 Dataset을 sample에 쉽게 접근할 수 있도록 iterable로 감싼다.\n",
    "\n",
    "> Pytorch domain Library들은 (FashionMNIST와 같은) 미리 준비된 다양한 dataset을 제공한다.  \n",
    "연습하기에 적절할 수 있다."
   ]
  },
  {
   "cell_type": "markdown",
   "id": "3a1fd77f-a2d9-4194-b942-acbd5337b6a8",
   "metadata": {},
   "source": [
    "## Loading a Dataset"
   ]
  },
  {
   "cell_type": "markdown",
   "id": "d6b2ec59-7a2f-4c9c-8be7-d6b41bd59921",
   "metadata": {},
   "source": [
    ">Torchvision에서 Fashion-MNIST dataset을 불러와보자  \n",
    "\n",
    ">Fashion-MNIST는 Zalando의 기사 image dataset으로, 60,000개의 학습 예제와 10,000개의 테스트 예제로 이루어져 있다.  \n",
    "각 예제는 grayscale의 28×28 image와 10개 class 중 하나인 label로 구성되어 있다.\n",
    "\n",
    "- `root`는 학습/테스트 데이터가 저장되는 경로다.\n",
    "- `train`은 학습용 또는 테스트용 dataset 여부를 지정한다.\n",
    "- `download=True`는 `root`에 data가 없는 경우 인터넷에서 다운로드 한다.\n",
    "- `transform`과 `target_transform`은 feature와 label의 transform을 지정한다."
   ]
  },
  {
   "cell_type": "code",
   "execution_count": 2,
   "id": "d704ed71-0bd1-43da-a9c3-11d80b97f5d3",
   "metadata": {
    "tags": []
   },
   "outputs": [],
   "source": [
    "import torch\n",
    "from torch.utils.data import Dataset\n",
    "from torchvision import datasets\n",
    "from torchvision.transforms import ToTensor\n",
    "import matplotlib.pyplot as plt\n",
    "\n",
    "training_data = datasets.FashionMNIST(\n",
    "    root='data',\n",
    "    train=True,\n",
    "    download=True,\n",
    "    transform=ToTensor()\n",
    ")\n",
    "\n",
    "test_data = datasets.FashionMNIST(\n",
    "    root='data',\n",
    "    train=False,\n",
    "    download=True,\n",
    "    transform=ToTensor()\n",
    ")"
   ]
  },
  {
   "cell_type": "markdown",
   "id": "72ff17e5-e2e1-4788-8e2e-4178d7eb1db0",
   "metadata": {},
   "source": [
    "## Iterating and Visualizing the Dataset"
   ]
  },
  {
   "cell_type": "code",
   "execution_count": 4,
   "id": "1bcca1db-1eca-4521-bc60-0d5c38d8f4f1",
   "metadata": {
    "tags": []
   },
   "outputs": [
    {
     "data": {
      "image/png": "[encoded data removed]",
      "text/plain": [
       "<Figure size 800x800 with 9 Axes>"
      ]
     },
     "metadata": {},
     "output_type": "display_data"
    }
   ],
   "source": [
    "labels_map = { # training_data에서 0~9 index를 갖는 data label\n",
    "    0: 'T-Shirt',\n",
    "    1: 'Trouser',\n",
    "    2: 'Pullover',\n",
    "    3: 'Dress',\n",
    "    4: 'Coat',\n",
    "    5: 'Sandal',\n",
    "    6: 'Shirt',\n",
    "    7: 'Sneaker',\n",
    "    8: 'Bag',\n",
    "    9: 'Ankle Boot',\n",
    "}\n",
    "figure = plt.figure(figsize=(8, 8))\n",
    "cols, rows = 3, 3\n",
    "\n",
    "for i in range(1, cols*rows+1):\n",
    "    sample_idx = torch.randint(len(training_data), size=(1,)).item() # 임의의 index 선정\n",
    "    img, label = training_data[sample_idx] # 그 index로 아까 불러온 training_data에서 image와 label 받고\n",
    "    figure.add_subplot(rows, cols, i) # 시각화 시작\n",
    "    plt.title(labels_map[label])\n",
    "    plt.axis('off')\n",
    "    plt.imshow(img.squeeze(), cmap='gray')\n",
    "plt.show()"
   ]
  },
  {
   "cell_type": "markdown",
   "id": "dad0d2c6-bfa8-4f89-a8c1-3f086bad691f",
   "metadata": {},
   "source": [
    "## Creating a Custom Dataset for my files"
   ]
  },
  {
   "cell_type": "markdown",
   "id": "4db2be46-75c3-4858-9967-6d69086bd516",
   "metadata": {},
   "source": [
    ">사용자 정의 Dataset class는 반드시 3개 함수를 구현해야 한다.  \n",
    "**\\_\\_init__  \n",
    "\\_\\_len__  \n",
    "\\_\\_getitem__**  \n",
    "\n",
    ">**\\_\\_init__** 함수는 Dataset 객체가 instantiate될 때 한 번만 실행된다.  \n",
    "여기서 image와 annotation 파일이 포함된 디렉토리와 두 가지 transform을 초기화한다.\n",
    "\n",
    ">**labels.csv 파일 예시**  \n",
    "tshirt1.jpg, 0  \n",
    "tshirt2.jpg, 0  \n",
    "ankleboot999.jpg, 9\n",
    "\n",
    ">**\\_\\_len__** 함수는 dataset의 sample 개수를 반환한다.\n",
    "\n",
    ">**\\_\\_getitem__** 함수는 주어진 index `idx`에 해당하는 sample을 dataset에서 불러오고 반환한다.  \n",
    "index를 기반으로, 디스크에서 image의 위치를 식별하고, `read_image`를 사용하여 image를 tensor로 변환하고,  \n",
    "`self.img_labels`의 csv data로부터 해당하는 label을 가져오고,  \n",
    "(해당하는 경우) transform 함수들을 호출한 뒤, tensor image와 label을 python dictionary 형으로 반환한다."
   ]
  },
  {
   "cell_type": "code",
   "execution_count": 3,
   "id": "f375598d-81a7-4bf5-a3ec-033ab995606a",
   "metadata": {
    "tags": []
   },
   "outputs": [],
   "source": [
    "import os\n",
    "import pandas as pd\n",
    "from torchvision.io import read_image\n",
    "\n",
    "class CustomImageDataset(Dataset):\n",
    "    def __init__(self, annotations_file, img_dir, transform=None, target_transform=None):\n",
    "        self.img_labels = pd.read_csv(annotation_file, names=['filename', 'label'])\n",
    "        self.img_dir = img_dir\n",
    "        self.tranform = transform\n",
    "        self.target_transform = target_transform\n",
    "    \n",
    "    def __len__(self):\n",
    "        return len(self.img_labels)\n",
    "    \n",
    "    def __getitem__(self, idx):\n",
    "        img_path = os.path.join(self.img_dir, self.img_labels.iloc[idx, 0])\n",
    "        image = read_image(img_path)\n",
    "        label = self.img_labels.iloc([idx, 1])\n",
    "        if self.transform:\n",
    "            image = self.transform(image)\n",
    "        if self.target_transform:\n",
    "            label = self.target_transform(label)\n",
    "        return image, label"
   ]
  },
  {
   "cell_type": "markdown",
   "id": "c8433d18-3c7a-4109-9f2d-65de65568e92",
   "metadata": {},
   "source": [
    "## Preparing my data for training with DataLoaders"
   ]
  },
  {
   "cell_type": "markdown",
   "id": "4f04c70c-4b36-4f05-a202-c46c622a8c60",
   "metadata": {},
   "source": [
    ">`Dataset`은 dataset의 feature를 가져오고 하나의 sample에 label을 지정하는 일을 한 번에 한다.  \n",
    "model을 학습할 때, 일반적으로 sample들을 mini-batch로 전달하고, 매 epoch마다 data를 다시 섞어서 overfit을 막고,  \n",
    "Python의 `multiprocessing`을 사용하여 data 검색 속도를 높이려고 한다.\n",
    "\n",
    ">`DataLoader`는 간단한 API로 이러한 복잡한 과정들을 추상화한 iterable이다."
   ]
  },
  {
   "cell_type": "code",
   "execution_count": 4,
   "id": "6f1d7707-707a-47df-bcc7-a777e605b472",
   "metadata": {
    "tags": []
   },
   "outputs": [],
   "source": [
    "from torch.utils.data import DataLoader\n",
    "\n",
    "train_dataloader = DataLoader(training_data, batch_size=64, shuffle=True)\n",
    "test_dataloader = DataLoader(test_data, batch_size=64, shuffle=True)"
   ]
  },
  {
   "cell_type": "markdown",
   "id": "b52253f7-0d5c-43f4-9978-48718de56e37",
   "metadata": {},
   "source": [
    "## Iterate through the DataLoader"
   ]
  },
  {
   "cell_type": "markdown",
   "id": "95951e31-902f-4ab9-b453-bc75d8d4a1b0",
   "metadata": {},
   "source": [
    ">`DataLoader`에 dataset을 불러온 뒤에는 필요에 따라 dataset을 iterate할 수 있다.  \n",
    "아래의 각 iteration은 `train_features`와 `train_labels`의 batch(묶음)를 반환한다.  \n",
    "`shuffle=True`로 지정했으므로, 모든 batch를 순회한 뒤 data가 섞인다."
   ]
  },
  {
   "cell_type": "code",
   "execution_count": 5,
   "id": "1ad3e6bf-a3c3-4ea5-a577-57cda5d78033",
   "metadata": {
    "tags": []
   },
   "outputs": [
    {
     "name": "stdout",
     "output_type": "stream",
     "text": [
      "Feature batch shape: torch.Size([64, 1, 28, 28])\n",
      "Labels batch shape: torch.Size([64])\n"
     ]
    },
    {
     "data": {
      "image/png": "[encoded data removed]",
      "text/plain": [
       "<Figure size 640x480 with 1 Axes>"
      ]
     },
     "metadata": {},
     "output_type": "display_data"
    },
    {
     "name": "stdout",
     "output_type": "stream",
     "text": [
      "Label: 2\n"
     ]
    }
   ],
   "source": [
    "# image와 label을 표시\n",
    "train_features, train_labels = next(iter(train_dataloader))\n",
    "print(f'Feature batch shape: {train_features.size()}')\n",
    "print(f'Labels batch shape: {train_labels.size()}')\n",
    "img = train_features[0].squeeze()\n",
    "label = train_labels[0]\n",
    "plt.imshow(img, cmap='gray')\n",
    "plt.show()\n",
    "print(f'Label: {label}')"
   ]
  }
 ],
 "metadata": {
  "kernelspec": {
   "display_name": "Python 3",
   "language": "python",
   "name": "python3"
  },
  "language_info": {
   "codemirror_mode": {
    "name": "ipython",
    "version": 3
   },
   "file_extension": ".py",
   "mimetype": "text/x-python",
   "name": "python",
   "nbconvert_exporter": "python",
   "pygments_lexer": "ipython3",
   "version": "3.11.4"
  }
 },
 "nbformat": 4,
 "nbformat_minor": 5
}
