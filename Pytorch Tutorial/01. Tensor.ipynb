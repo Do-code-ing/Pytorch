{
 "cells": [
  {
   "cell_type": "markdown",
   "id": "8ace6609-9a4f-4a00-b795-50c9ba320683",
   "metadata": {},
   "source": [
    "# 1. Tensor"
   ]
  },
  {
   "cell_type": "markdown",
   "id": "6a6a7aab-1074-4f59-9316-1dc99eed2d35",
   "metadata": {},
   "source": [
    ">**Tensor**는 **Array나 Matrix와 유사한 자료구조**다.  \n",
    "pytorch에서 tensor를 사용하여 **Model의 Input과 Output, 그리고 Model의 Parameter들을 Encode한다.**\n",
    "\n",
    ">tensor는 **GPU나 다른 H/W 가속기에서 실행할 수 있다는 점을 제외하면 Numpy의 ndarray와 유사하다.**  \n",
    "실제로 tensor와 **Numpy의 array는 종종 동일한 Underly 메모리를 공유할 수 있어 데이터를 복사할 필요가 없다.**\n",
    "\n",
    ">tensor는 **Automatic Differentiation에 최적화되어 있다.**"
   ]
  },
  {
   "cell_type": "code",
   "execution_count": 1,
   "id": "4d27362b-d046-4fcc-919d-7c58e0c33599",
   "metadata": {},
   "outputs": [],
   "source": [
    "import torch\n",
    "import numpy as np"
   ]
  },
  {
   "cell_type": "markdown",
   "id": "50a9093d-d826-4447-989b-f5dbc55b6e02",
   "metadata": {},
   "source": [
    "## Initializing a Tensor"
   ]
  },
  {
   "cell_type": "code",
   "execution_count": 2,
   "id": "2ee3dc80-1bfa-422e-9bad-44ff843bc03b",
   "metadata": {},
   "outputs": [
    {
     "data": {
      "text/plain": [
       "tensor([[1, 2],\n",
       "        [3, 4]])"
      ]
     },
     "execution_count": 2,
     "metadata": {},
     "output_type": "execute_result"
    }
   ],
   "source": [
    "data = [[1, 2], [3, 4]]\n",
    "x_data = torch.tensor(data)\n",
    "x_data"
   ]
  },
  {
   "cell_type": "code",
   "execution_count": 3,
   "id": "ec54c617-b7c7-4d6d-8b42-5ba09bffcf83",
   "metadata": {
    "tags": []
   },
   "outputs": [
    {
     "data": {
      "text/plain": [
       "tensor([[1, 2],\n",
       "        [3, 4]], dtype=torch.int32)"
      ]
     },
     "execution_count": 3,
     "metadata": {},
     "output_type": "execute_result"
    }
   ],
   "source": [
    "np_array = np.array(data)\n",
    "x_np = torch.from_numpy(np_array)\n",
    "x_np"
   ]
  },
  {
   "cell_type": "code",
   "execution_count": 4,
   "id": "d2d3f8bd-dcbe-4edf-bd5c-516d1d5959d2",
   "metadata": {
    "tags": []
   },
   "outputs": [
    {
     "name": "stdout",
     "output_type": "stream",
     "text": [
      "tensor([[1, 1],\n",
      "        [1, 1]])\n",
      "tensor([[0.1476, 0.6100],\n",
      "        [0.6321, 0.6000]])\n"
     ]
    }
   ],
   "source": [
    "x_ones = torch.ones_like(x_data) # x_data의 속성은 유지하면서 1로 채우기\n",
    "print(x_ones)\n",
    "\n",
    "x_rand = torch.rand_like(x_data, dtype=torch.float) # x_data의 속성은 유지하면서 랜덤한 float으로 채우기\n",
    "print(x_rand)"
   ]
  },
  {
   "cell_type": "code",
   "execution_count": 5,
   "id": "73c10a4f-122b-409a-a8c7-90003d373e8d",
   "metadata": {
    "tags": []
   },
   "outputs": [
    {
     "name": "stdout",
     "output_type": "stream",
     "text": [
      "tensor([[0.7909, 0.0993, 0.4865],\n",
      "        [0.1693, 0.4122, 0.1775]])\n",
      "tensor([[1., 1., 1.],\n",
      "        [1., 1., 1.]])\n",
      "tensor([[0., 0., 0.],\n",
      "        [0., 0., 0.]])\n"
     ]
    }
   ],
   "source": [
    "shape = (2, 3,) # 2 × 3 크기의 shape을 설정하고\n",
    "rand_tensor = torch.rand(shape) # 그 모양으로 tensor 만들기\n",
    "ones_tensor = torch.ones(shape)\n",
    "zeros_tensor = torch.zeros(shape)\n",
    "\n",
    "print(rand_tensor)\n",
    "print(ones_tensor)\n",
    "print(zeros_tensor)"
   ]
  },
  {
   "cell_type": "markdown",
   "id": "1d3b81f9-115b-4b47-8f73-3d756a870c7a",
   "metadata": {},
   "source": [
    "## Attribute of a Tensor"
   ]
  },
  {
   "cell_type": "code",
   "execution_count": 6,
   "id": "be236c75-0fb5-4384-86e7-509db060d8ab",
   "metadata": {
    "tags": []
   },
   "outputs": [
    {
     "name": "stdout",
     "output_type": "stream",
     "text": [
      "Shape of tensor: torch.Size([3, 4])\n",
      "Datatype of tensor: torch.float32\n",
      "Device tensor is stored on: cpu\n"
     ]
    }
   ],
   "source": [
    "tensor = torch.rand(3, 4)\n",
    "\n",
    "print(f'Shape of tensor: {tensor.shape}') # tensor의 shape\n",
    "print(f'Datatype of tensor: {tensor.dtype}') # tensor의 datatype\n",
    "print(f'Device tensor is stored on: {tensor.device}') # tensor가 어디에 저장되는지"
   ]
  },
  {
   "cell_type": "markdown",
   "id": "1200d7a0-86f6-4793-a55b-5ac8bc2f2697",
   "metadata": {},
   "source": [
    "## Operations on Tensors"
   ]
  },
  {
   "cell_type": "markdown",
   "id": "e9dfebf8-318d-41ef-92d7-01aa528527f2",
   "metadata": {},
   "source": [
    "100가지 이상의 **Tensor Operations**  \n",
    "<https://pytorch.org/docs/stable/torch.html>\n",
    "\n",
    ">각 연산들은 (일반적으로 CPU보다 빠른) GPU에서 실행할 수 있다.  \n",
    "기본적으로 tensor는 CPU에 생성되는데, ```.to``` method를 사용하면  \n",
    "(GPU의 가용성(availability)을 확인한 뒤) GPU로 tensor를 명시적으로 이동할 수 있다.\n",
    "\n",
    ">*장치들 간에 큰 tensor를 복사하는 것은 시간과 메모리 측면에서 비용이 많이듬에 주의*"
   ]
  },
  {
   "cell_type": "code",
   "execution_count": 7,
   "id": "ffe2d170-61cb-4e9c-85be-9326e7173183",
   "metadata": {
    "tags": []
   },
   "outputs": [
    {
     "name": "stdout",
     "output_type": "stream",
     "text": [
      "cpu\n"
     ]
    }
   ],
   "source": [
    "# GPU가 존재하면 Tensor를 이동합니다\n",
    "if torch.cuda.is_available():\n",
    "    tensor = tensor.to('cuda')\n",
    "print(tensor.device)"
   ]
  },
  {
   "cell_type": "code",
   "execution_count": 8,
   "id": "a9c22450-6de6-495d-b38a-b9aa70e0e239",
   "metadata": {
    "tags": []
   },
   "outputs": [
    {
     "name": "stdout",
     "output_type": "stream",
     "text": [
      "Fisrt row: tensor([1., 1., 1., 1.])\n",
      "Fisrt column: tensor([1., 1., 1., 1.])\n",
      "Last column: tensor([1., 1., 1., 1.])\n",
      "tensor([[1., 0., 1., 1.],\n",
      "        [1., 0., 1., 1.],\n",
      "        [1., 0., 1., 1.],\n",
      "        [1., 0., 1., 1.]])\n"
     ]
    }
   ],
   "source": [
    "tensor = torch.ones(4, 4)\n",
    "print(f'Fisrt row: {tensor[0]}')\n",
    "print(f'Fisrt column: {tensor[:, 0]}')\n",
    "print(f'Last column: {tensor[..., -1]}')\n",
    "tensor[:, 1] = 0\n",
    "print(tensor)"
   ]
  },
  {
   "cell_type": "code",
   "execution_count": 9,
   "id": "fe913aad-c4b2-40f4-8aed-d2ac2898b7cb",
   "metadata": {
    "tags": []
   },
   "outputs": [
    {
     "name": "stdout",
     "output_type": "stream",
     "text": [
      "tensor([[1., 0., 1., 1., 1., 0., 1., 1., 1., 0., 1., 1.],\n",
      "        [1., 0., 1., 1., 1., 0., 1., 1., 1., 0., 1., 1.],\n",
      "        [1., 0., 1., 1., 1., 0., 1., 1., 1., 0., 1., 1.],\n",
      "        [1., 0., 1., 1., 1., 0., 1., 1., 1., 0., 1., 1.]])\n"
     ]
    }
   ],
   "source": [
    "t1 = torch.cat([tensor, tensor, tensor], dim=1)\n",
    "print(t1)"
   ]
  },
  {
   "cell_type": "code",
   "execution_count": 10,
   "id": "fcef6925-2aba-46ae-96dc-4713546672f0",
   "metadata": {
    "tags": []
   },
   "outputs": [
    {
     "name": "stdout",
     "output_type": "stream",
     "text": [
      "tensor:\n",
      " tensor([[1., 0., 1., 1.],\n",
      "        [1., 0., 1., 1.],\n",
      "        [1., 0., 1., 1.],\n",
      "        [1., 0., 1., 1.]])\n",
      "tesnor.T:\n",
      " tensor([[1., 1., 1., 1.],\n",
      "        [0., 0., 0., 0.],\n",
      "        [1., 1., 1., 1.],\n",
      "        [1., 1., 1., 1.]])\n",
      "y1:\n",
      " tensor([[3., 3., 3., 3.],\n",
      "        [3., 3., 3., 3.],\n",
      "        [3., 3., 3., 3.],\n",
      "        [3., 3., 3., 3.]])\n",
      "y2:\n",
      " tensor([[3., 3., 3., 3.],\n",
      "        [3., 3., 3., 3.],\n",
      "        [3., 3., 3., 3.],\n",
      "        [3., 3., 3., 3.]])\n",
      "y3:\n",
      " tensor([[3., 3., 3., 3.],\n",
      "        [3., 3., 3., 3.],\n",
      "        [3., 3., 3., 3.],\n",
      "        [3., 3., 3., 3.]])\n",
      "z1:\n",
      " tensor([[1., 0., 1., 1.],\n",
      "        [1., 0., 1., 1.],\n",
      "        [1., 0., 1., 1.],\n",
      "        [1., 0., 1., 1.]])\n",
      "z2:\n",
      " tensor([[1., 0., 1., 1.],\n",
      "        [1., 0., 1., 1.],\n",
      "        [1., 0., 1., 1.],\n",
      "        [1., 0., 1., 1.]])\n",
      "z3:\n",
      " tensor([[1., 0., 1., 1.],\n",
      "        [1., 0., 1., 1.],\n",
      "        [1., 0., 1., 1.],\n",
      "        [1., 0., 1., 1.]])\n"
     ]
    }
   ],
   "source": [
    "# 두 tensor의 Matrix Multiplication\n",
    "y1 = tensor @ tensor.T\n",
    "y2 = tensor.matmul(tensor.T)\n",
    "\n",
    "y3 = torch.rand_like(y1)\n",
    "torch.matmul(tensor, tensor.T, out=y3)\n",
    "\n",
    "# y1, y2, y3 모두 같은 연산을 한거임\n",
    "print(f'tensor:\\n {tensor}')\n",
    "print(f'tesnor.T:\\n {tensor.T}')\n",
    "print(f'y1:\\n {y1}')\n",
    "print(f'y2:\\n {y2}')\n",
    "print(f'y3:\\n {y3}')\n",
    "\n",
    "# 두 tensor의 Element-wise product (Hadamard product)\n",
    "z1 = tensor * tensor\n",
    "z2 = tensor.mul(tensor)\n",
    "\n",
    "z3 = torch.rand_like(tensor)\n",
    "torch.mul(tensor, tensor, out=z3)\n",
    "\n",
    "# z1, z2, z3 모두 같은 연산을 한거임\n",
    "print(f'z1:\\n {z1}')\n",
    "print(f'z2:\\n {z2}')\n",
    "print(f'z3:\\n {z3}')"
   ]
  },
  {
   "cell_type": "code",
   "execution_count": 11,
   "id": "78f728da-dc7d-4c03-b992-eed43232cb6b",
   "metadata": {
    "tags": []
   },
   "outputs": [
    {
     "name": "stdout",
     "output_type": "stream",
     "text": [
      "tensor(12.) 12.0 <class 'float'>\n"
     ]
    }
   ],
   "source": [
    "agg = tensor.sum() # tensor의 모든 요소들의 합\n",
    "agg_item = agg.item() # agg를 Python의 숫자로 형변환\n",
    "print(agg, agg_item, type(agg_item))"
   ]
  },
  {
   "cell_type": "code",
   "execution_count": 12,
   "id": "dc1cb33e-21f0-47b0-a5a4-444c32e64370",
   "metadata": {
    "tags": []
   },
   "outputs": [
    {
     "name": "stdout",
     "output_type": "stream",
     "text": [
      "tensor([[1., 0., 1., 1.],\n",
      "        [1., 0., 1., 1.],\n",
      "        [1., 0., 1., 1.],\n",
      "        [1., 0., 1., 1.]]) \n",
      "\n",
      "tensor([[6., 5., 6., 6.],\n",
      "        [6., 5., 6., 6.],\n",
      "        [6., 5., 6., 6.],\n",
      "        [6., 5., 6., 6.]])\n"
     ]
    }
   ],
   "source": [
    "print(f'{tensor} \\n')\n",
    "tensor.add_(5) # in-place 연산으로, 연산 결과를 피연산자에 저장한다. '_' 접미사를 갖는다.\n",
    "print(tensor)\n",
    "# in-place 연산은 메모리를 일부 절약하지만, history가 즉시 삭제되어 derivative 계산에 문제가 발생할 수 있다.\n",
    "# 따라서 사용을 권장하지 않는다."
   ]
  },
  {
   "cell_type": "markdown",
   "id": "d11cc7e4-579b-4182-a62b-fc531d762f4c",
   "metadata": {},
   "source": [
    "## Brigde with Numpy"
   ]
  },
  {
   "cell_type": "markdown",
   "id": "e389925f-a5e8-4b87-9fe1-6d98c9baf553",
   "metadata": {},
   "source": [
    ">CPU 상의 tensor와 Numpy array는 메모리 공간을 공유하기 때문에  \n",
    "하나를 변경하면 다른 하나도 변경된다."
   ]
  },
  {
   "cell_type": "code",
   "execution_count": 13,
   "id": "385c549f-68d7-4122-a5b6-f9990fea746f",
   "metadata": {
    "tags": []
   },
   "outputs": [
    {
     "name": "stdout",
     "output_type": "stream",
     "text": [
      "t: tensor([1., 1., 1., 1., 1.])\n",
      "n: [1. 1. 1. 1. 1.]\n"
     ]
    }
   ],
   "source": [
    "t = torch.ones(5)\n",
    "print(f't: {t}')\n",
    "n = t.numpy()\n",
    "print(f'n: {n}')"
   ]
  },
  {
   "cell_type": "code",
   "execution_count": 14,
   "id": "df43939e-9f8f-4592-a45c-2fb11aedeeff",
   "metadata": {
    "tags": []
   },
   "outputs": [
    {
     "name": "stdout",
     "output_type": "stream",
     "text": [
      "t: tensor([2., 2., 2., 2., 2.])\n",
      "n: [2. 2. 2. 2. 2.]\n"
     ]
    }
   ],
   "source": [
    "t.add_(1)\n",
    "print(f't: {t}')\n",
    "print(f'n: {n}')"
   ]
  },
  {
   "cell_type": "code",
   "execution_count": 15,
   "id": "298b57cf-ac63-412e-a810-e32fe8a1d868",
   "metadata": {
    "tags": []
   },
   "outputs": [
    {
     "name": "stdout",
     "output_type": "stream",
     "text": [
      "t: tensor([2., 2., 2., 2., 2.], dtype=torch.float64)\n",
      "n: [2. 2. 2. 2. 2.]\n"
     ]
    }
   ],
   "source": [
    "n = np.ones(5)\n",
    "t = torch.from_numpy(n)\n",
    "np.add(n, 1, out=n)\n",
    "print(f't: {t}')\n",
    "print(f'n: {n}')"
   ]
  },
  {
   "cell_type": "code",
   "execution_count": null,
   "id": "88c95103-a472-4d8a-9b9c-ae84873f2ba1",
   "metadata": {},
   "outputs": [],
   "source": []
  }
 ],
 "metadata": {
  "kernelspec": {
   "display_name": "Python 3",
   "language": "python",
   "name": "python3"
  },
  "language_info": {
   "codemirror_mode": {
    "name": "ipython",
    "version": 3
   },
   "file_extension": ".py",
   "mimetype": "text/x-python",
   "name": "python",
   "nbconvert_exporter": "python",
   "pygments_lexer": "ipython3",
   "version": "3.11.4"
  }
 },
 "nbformat": 4,
 "nbformat_minor": 5
}
