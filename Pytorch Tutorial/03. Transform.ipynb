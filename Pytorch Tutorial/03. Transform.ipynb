{
 "cells": [
  {
   "cell_type": "markdown",
   "id": "c70cfa9b-c66c-4022-974e-bf5b3ae65ba5",
   "metadata": {},
   "source": [
    "# 3. Transform"
   ]
  },
  {
   "cell_type": "markdown",
   "id": "b682774a-5e4b-408f-9632-b1d76e8b526a",
   "metadata": {},
   "source": [
    "> data가 항상 머신러닝에 적합한 형태로 제공되지는 않는다.  \n",
    "따라서 **transform을 통해 data를 조작하고 학습에 적합하게 만들어야 한다.**\n",
    "\n",
    ">모든 Torchvision의 dataset들은 변형 로직을 갖는, callable를 받는 parameter 두 개를 갖는다.  \n",
    "하나는 **feature를 변경하기 위한** `transform`, 나머지 하나는, **label을 변경하기 위한** `target_transform`이다.  \n",
    "`torchvision.transforms` 모듈은 주로 사용하는 몇가지 transform을 제공한다.\n",
    "\n",
    ">FashionMNIST의 feature는 PIL Image 형식이며, label은 integer다.  \n",
    "**학습을 하려면 normalize된 tensor 형태의 feature와 one-hot으로 encode된 tensor 형태의 label이 필요하다.**  \n",
    "이러한 transformation을 하기 위해 `ToTensor`와 `Lambda`를 사용한다."
   ]
  },
  {
   "cell_type": "code",
   "execution_count": 2,
   "id": "44527030-b808-4b22-9df6-a2186f320029",
   "metadata": {
    "tags": []
   },
   "outputs": [],
   "source": [
    "import torch\n",
    "from torchvision import datasets\n",
    "from torchvision.transforms import ToTensor, Lambda\n",
    "\n",
    "ds = datasets.FashionMNIST(\n",
    "    root='data',\n",
    "    train=True,\n",
    "    download=True,\n",
    "    transform=ToTensor(),\n",
    "    target_transform=Lambda(lambda y: torch.zeros(10, dtype=torch.float).scatter_(0, torch.tensor(y), value=1))\n",
    ")"
   ]
  },
  {
   "cell_type": "markdown",
   "id": "83a09cb5-9c0a-49f1-990e-bee8f3d763ce",
   "metadata": {},
   "source": [
    "## ToTensor()"
   ]
  },
  {
   "cell_type": "markdown",
   "id": "ff486171-a2ae-4287-96c9-6795824a6644",
   "metadata": {},
   "source": [
    "> ToTensor는 PIL Image나 Numpy의 `ndarray`를 `FloatTensor`로 변환하고,  \n",
    "image의 pixel의 크기(intensity) 값을 [0., 1.] 범위로 비례하여 조정(scale)한다."
   ]
  },
  {
   "cell_type": "markdown",
   "id": "caa13ab9-f499-4cb5-94b0-5359d2d46d35",
   "metadata": {},
   "source": [
    "## Lambda Transforms"
   ]
  },
  {
   "cell_type": "markdown",
   "id": "ca098a04-55c4-447b-a5e1-328ffe164046",
   "metadata": {},
   "source": [
    "> Lambda Transforms는 사용자 정의 람다(lambda) 함수를 적용한다.  \n",
    "여기에서는 정수를 one-hot으로 encode된 tensor로 바꾸는 함수를 정의한다.\n",
    "\n",
    ">이 함수는 먼저 (dataset label의 개수인) 크기 10짜리 zero tensor를 만들고,  \n",
    "`scatter_`를 호출하여 주어진 정답 `y`에 해당하는 index에 `value=1`을 할당한다."
   ]
  },
  {
   "cell_type": "code",
   "execution_count": null,
   "id": "8b019b43-b55a-411b-9cc7-cd66c7360edd",
   "metadata": {},
   "outputs": [],
   "source": []
  }
 ],
 "metadata": {
  "kernelspec": {
   "display_name": "Python 3",
   "language": "python",
   "name": "python3"
  },
  "language_info": {
   "codemirror_mode": {
    "name": "ipython",
    "version": 3
   },
   "file_extension": ".py",
   "mimetype": "text/x-python",
   "name": "python",
   "nbconvert_exporter": "python",
   "pygments_lexer": "ipython3",
   "version": "3.11.4"
  }
 },
 "nbformat": 4,
 "nbformat_minor": 5
}
